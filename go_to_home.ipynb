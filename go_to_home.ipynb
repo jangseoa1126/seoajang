{
 "cells": [
  {
   "cell_type": "code",
   "execution_count": null,
   "id": "fa5ff667-6c41-4f1a-8301-9d5ada29b323",
   "metadata": {},
   "outputs": [
    {
     "name": "stdout",
     "output_type": "stream",
     "text": [
      "Hello world\n"
     ]
    }
   ],
   "source": [
    "print('Hello world') #python 출력"
   ]
  },
  {
   "cell_type": "code",
   "execution_count": null,
   "id": "ca15f95d-7f75-4b97-b5b0-dc17faa48fd4",
   "metadata": {},
   "outputs": [
    {
     "name": "stdout",
     "output_type": "stream",
     "text": [
      "1\n"
     ]
    }
   ],
   "source": [
    "a = 1\n",
    "print(a)"
   ]
  },
  {
   "cell_type": "code",
   "execution_count": null,
   "id": "4669fc0b-3db7-4b4d-8422-4f2da97d2b16",
   "metadata": {},
   "outputs": [],
   "source": [
    "# go to home > 주석"
   ]
  },
  {
   "cell_type": "code",
   "execution_count": null,
   "id": "3c265fe0-6ac9-4932-aa53-dea559569087",
   "metadata": {},
   "outputs": [
    {
     "name": "stdout",
     "output_type": "stream",
     "text": [
      "apple\n"
     ]
    }
   ],
   "source": [
    "#변수\n",
    "a = \"apple\"\n",
    "print(a)"
   ]
  },
  {
   "cell_type": "code",
   "execution_count": null,
   "id": "8b4a23f1-8fbf-47ba-b2fc-1ce60cd84075",
   "metadata": {},
   "outputs": [
    {
     "name": "stdout",
     "output_type": "stream",
     "text": [
      "banana\n"
     ]
    }
   ],
   "source": [
    "a = 'banana'\n",
    "print(a)\n",
    "\n",
    "#변수의 값을 바꿀 수 있다 / 딱 정해진 것이 아니라 변할 수 있는 값이다. => 자료형을 가지고 있음\n",
    "#정수형, 실수형, 문자형, 논리형, none타입 확인방법 -> type(n) ex)type(1),type('1') \n",
    "#불리안 => ex) type(False), type(True), type(None)"
   ]
  },
  {
   "cell_type": "code",
   "execution_count": null,
   "id": "5b54fafc-3fce-41c4-babb-f7d23c3e58b8",
   "metadata": {},
   "outputs": [
    {
     "data": {
      "text/plain": [
       "bool"
      ]
     },
     "execution_count": 11,
     "metadata": {},
     "output_type": "execute_result"
    }
   ],
   "source": [
    "type(False)"
   ]
  },
  {
   "cell_type": "code",
   "execution_count": null,
   "id": "e3c3c9e8-1425-4234-bbe3-448a5eea1009",
   "metadata": {},
   "outputs": [
    {
     "data": {
      "text/plain": [
       "NoneType"
      ]
     },
     "execution_count": 12,
     "metadata": {},
     "output_type": "execute_result"
    }
   ],
   "source": [
    "type(None)"
   ]
  },
  {
   "cell_type": "code",
   "execution_count": null,
   "id": "9602512d-8f2e-48af-b60d-14d9a61e7910",
   "metadata": {},
   "outputs": [],
   "source": [
    "a = str(1) #형태를 변환 (숫자형 -> 문자형)"
   ]
  },
  {
   "cell_type": "code",
   "execution_count": null,
   "id": "6c7b4bae-5979-40f2-a1f8-fd5ba76b84ec",
   "metadata": {},
   "outputs": [
    {
     "data": {
      "text/plain": [
       "str"
      ]
     },
     "execution_count": 14,
     "metadata": {},
     "output_type": "execute_result"
    }
   ],
   "source": [
    "type(a)"
   ]
  },
  {
   "cell_type": "code",
   "execution_count": null,
   "id": "d29b2e68-6361-4686-8c1e-5e5390be156c",
   "metadata": {},
   "outputs": [],
   "source": [
    "a = [1,2,3,4,5] #리스트"
   ]
  },
  {
   "cell_type": "code",
   "execution_count": null,
   "id": "436d0479-d71f-49bd-b4ed-0991c7c11c3d",
   "metadata": {},
   "outputs": [
    {
     "data": {
      "text/plain": [
       "list"
      ]
     },
     "execution_count": 16,
     "metadata": {},
     "output_type": "execute_result"
    }
   ],
   "source": [
    "type(a) #list또한 자료 형식의 일환"
   ]
  },
  {
   "cell_type": "code",
   "execution_count": null,
   "id": "f124e325-7898-40f3-a121-9861c25a6fef",
   "metadata": {},
   "outputs": [
    {
     "data": {
      "text/plain": [
       "1"
      ]
     },
     "execution_count": 17,
     "metadata": {},
     "output_type": "execute_result"
    }
   ],
   "source": [
    "a[0] #list는 index로 접근할 수 있음 =>index는 0부터 시작하기 때문에 1"
   ]
  },
  {
   "cell_type": "code",
   "execution_count": null,
   "id": "82b89135-6c2c-4910-9abc-0ed019dc2483",
   "metadata": {},
   "outputs": [],
   "source": [
    "a[3] = 6"
   ]
  },
  {
   "cell_type": "code",
   "execution_count": null,
   "id": "8fd2a526-760c-41a1-b799-31835298ffcc",
   "metadata": {},
   "outputs": [
    {
     "name": "stdout",
     "output_type": "stream",
     "text": [
      "[1, 2, 3, 6, 5]\n"
     ]
    }
   ],
   "source": [
    "print(a) #list안의 값을 수정할 수 있다."
   ]
  },
  {
   "cell_type": "code",
   "execution_count": null,
   "id": "f72de43d-a993-4520-a56d-1e764d6eccf3",
   "metadata": {},
   "outputs": [
    {
     "data": {
      "text/plain": [
       "[2, 3]"
      ]
     },
     "execution_count": 20,
     "metadata": {},
     "output_type": "execute_result"
    }
   ],
   "source": [
    "a[1:3] #콜른을 사용하여 연속 가능 but 첫번째는 포함하지만 두번째는 포함하지 않은 데이터 출력(3->6출력되지 않음)"
   ]
  },
  {
   "cell_type": "code",
   "execution_count": null,
   "id": "f3b10640-72e8-43c4-93ac-5097ef565ce7",
   "metadata": {},
   "outputs": [],
   "source": [
    "#튜플 => 한 번 만들면 수정이 불가능하다(리스트와의 차이점)"
   ]
  },
  {
   "cell_type": "code",
   "execution_count": null,
   "id": "c68b120b-9eea-462d-b736-271affddb4b4",
   "metadata": {},
   "outputs": [],
   "source": [
    "#세트 => 리스트와 비슷하지만 중복된 값이 없다"
   ]
  },
  {
   "cell_type": "code",
   "execution_count": null,
   "id": "20206e0d-8dba-4d1a-89b7-bcee6cb94495",
   "metadata": {},
   "outputs": [],
   "source": [
    "#딕셔너리 => 복잡한 값 다룸"
   ]
  },
  {
   "cell_type": "code",
   "execution_count": null,
   "id": "d037201e-31f0-4675-91b1-6abd598c1c30",
   "metadata": {},
   "outputs": [],
   "source": [
    "#조건문 => 특정 조건을 만족했을때 실행하라"
   ]
  },
  {
   "cell_type": "code",
   "execution_count": null,
   "id": "28b9b348-ac8d-4afc-a175-c5fff4308666",
   "metadata": {},
   "outputs": [
    {
     "name": "stdout",
     "output_type": "stream",
     "text": [
      "a는 양수입니다\n"
     ]
    }
   ],
   "source": [
    " a = 1\n",
    "\n",
    "if a > 0: #조건문 (-> 결과가 Ture(불리안)여야만 실행문에서 실행할 수 있음)\n",
    "    print(\"a는 양수입니다\") #실행문 (들여쓰기 -> 위의 조건문에 포함)"
   ]
  },
  {
   "cell_type": "code",
   "execution_count": null,
   "id": "a8ba2461-e2e4-44e1-9652-4de3f6194abb",
   "metadata": {},
   "outputs": [
    {
     "data": {
      "text/plain": [
       "True"
      ]
     },
     "execution_count": 22,
     "metadata": {},
     "output_type": "execute_result"
    }
   ],
   "source": [
    "a > 0"
   ]
  },
  {
   "cell_type": "code",
   "execution_count": null,
   "id": "c43eb87d-6d84-4335-afbc-761b4443f4fc",
   "metadata": {},
   "outputs": [
    {
     "data": {
      "text/plain": [
       "bool"
      ]
     },
     "execution_count": 23,
     "metadata": {},
     "output_type": "execute_result"
    }
   ],
   "source": [
    "type(True)"
   ]
  },
  {
   "cell_type": "code",
   "execution_count": null,
   "id": "ecbfae88-f05f-4501-8207-e2474af5c22f",
   "metadata": {},
   "outputs": [
    {
     "ename": "SyntaxError",
     "evalue": "invalid syntax. Maybe you meant '==' or ':=' instead of '='? (3033298217.py, line 3)",
     "output_type": "error",
     "traceback": [
      "\u001b[1;36m  Cell \u001b[1;32mIn[26], line 3\u001b[1;36m\u001b[0m\n\u001b[1;33m    if a = 1:\u001b[0m\n\u001b[1;37m       ^\u001b[0m\n\u001b[1;31mSyntaxError\u001b[0m\u001b[1;31m:\u001b[0m invalid syntax. Maybe you meant '==' or ':=' instead of '='?\n"
     ]
    }
   ],
   "source": [
    "a = 1\n",
    "\n",
    "if a = 1: #논리 연산사를 사용해야함(==) (=)는 변수를 선언하는것\n"
   ]
  },
  {
   "cell_type": "code",
   "execution_count": null,
   "id": "e25e434c-8369-40b4-acf5-2bded98b75e7",
   "metadata": {},
   "outputs": [
    {
     "name": "stdout",
     "output_type": "stream",
     "text": [
      "a는 1\n"
     ]
    }
   ],
   "source": [
    "if a is int(1): #is가 문자여서 함께 문자로 인식되므로  숫자로 바꾼 후에 계산해야함)\n",
    "    print(\"a는 1\")"
   ]
  },
  {
   "cell_type": "code",
   "execution_count": null,
   "id": "931947c7-4825-4046-ad5d-37508bb89c05",
   "metadata": {},
   "outputs": [
    {
     "name": "stdout",
     "output_type": "stream",
     "text": [
      "집에 가고 싶다\n"
     ]
    }
   ],
   "source": [
    "if a == 1:\n",
    "    print(\"집에 가고 싶다\")"
   ]
  },
  {
   "cell_type": "code",
   "execution_count": null,
   "id": "08f4ebdf-eb67-481b-961d-0f3f8f8a4ba2",
   "metadata": {},
   "outputs": [],
   "source": [
    "#조건문의 True 또는 False 여부를 꼭 확인해야함"
   ]
  },
  {
   "cell_type": "code",
   "execution_count": null,
   "id": "4651da27-e5a0-4962-ba37-77f3b1abb2bb",
   "metadata": {},
   "outputs": [],
   "source": [
    "a = 10\n",
    "b = 20\n",
    "l = [10,30,50]"
   ]
  },
  {
   "cell_type": "code",
   "execution_count": null,
   "id": "747d223b-e685-474e-88ea-d5c1f1248872",
   "metadata": {},
   "outputs": [
    {
     "name": "stdout",
     "output_type": "stream",
     "text": [
      "a는 10입니다.\n"
     ]
    }
   ],
   "source": [
    "if a == 10:\n",
    "    print(\"a는 10입니다.\")"
   ]
  },
  {
   "cell_type": "code",
   "execution_count": null,
   "id": "977afece-a25c-4bd5-911f-597b2777d5d2",
   "metadata": {},
   "outputs": [
    {
     "name": "stdout",
     "output_type": "stream",
     "text": [
      "a는 b보다 작습니다\n"
     ]
    }
   ],
   "source": [
    "if a > b: #False이기 때문에 실행되지 않음 ( True일때만 실행)\n",
    "    print(\"a는 b 보다 큽니다\")\n",
    "if a < b:\n",
    "    print(\"a는 b보다 작습니다\") #True이므로 출력됨"
   ]
  },
  {
   "cell_type": "code",
   "execution_count": null,
   "id": "4ec90240-485e-4c56-bb2e-489d1ef4a1e4",
   "metadata": {},
   "outputs": [
    {
     "name": "stdout",
     "output_type": "stream",
     "text": [
      "학원안가고싶어\n"
     ]
    }
   ],
   "source": [
    "if a in l:\n",
    "    print(\"학원안가고싶어\")"
   ]
  },
  {
   "cell_type": "code",
   "execution_count": null,
   "id": "cba3830c-72e0-4ee6-a046-e5f0abaafd8b",
   "metadata": {},
   "outputs": [
    {
     "name": "stdout",
     "output_type": "stream",
     "text": [
      "국어학원철거기원\n"
     ]
    }
   ],
   "source": [
    "if a is int(10):\n",
    "    print(\"국어학원철거기원\")"
   ]
  },
  {
   "cell_type": "code",
   "execution_count": null,
   "id": "2b7a269e-18b9-48aa-81f8-6fafd6930d9f",
   "metadata": {},
   "outputs": [
    {
     "name": "stdout",
     "output_type": "stream",
     "text": [
      "True\n"
     ]
    }
   ],
   "source": [
    "if True:\n",
    "    print(\"True\")"
   ]
  },
  {
   "cell_type": "code",
   "execution_count": null,
   "id": "1b67ef6d-db08-41f9-a29d-881793593f44",
   "metadata": {},
   "outputs": [],
   "source": [
    "if 0:\n",
    "    print(\"잉잉잉\")"
   ]
  },
  {
   "cell_type": "code",
   "execution_count": null,
   "id": "efc7780a-5871-4dbb-a0ab-7f76703819bd",
   "metadata": {},
   "outputs": [
    {
     "name": "stdout",
     "output_type": "stream",
     "text": [
      "이이이이\n"
     ]
    }
   ],
   "source": [
    "if 1000000000000:\n",
    "    print(\"이이이이\") #0은 False로, 0이 아닌 다른 수는 True로 판단하는 특징이 있어서 0만 출력되지 않음"
   ]
  },
  {
   "cell_type": "code",
   "execution_count": null,
   "id": "5252e36d-0b12-4070-ab92-5a782a574a04",
   "metadata": {},
   "outputs": [],
   "source": [
    "#and / or 개념을 사용해서 조건문을 여러개 사용할수있다"
   ]
  },
  {
   "cell_type": "code",
   "execution_count": null,
   "id": "8ac3782c-eece-49b1-97b5-e780aab4127a",
   "metadata": {},
   "outputs": [
    {
     "name": "stdout",
     "output_type": "stream",
     "text": [
      "a는 10이고 b는 20이다\n"
     ]
    }
   ],
   "source": [
    "if a == 10 and b ==20: #and는 두 조건이 모두 성립해야만 True 가 되어 값이 출력된다.(->조건을 여러개 추가 가능)\n",
    "    print(\"a는 10이고 b는 20이다\")"
   ]
  },
  {
   "cell_type": "code",
   "execution_count": null,
   "id": "1576ce02-bb86-4903-b1ae-b5c34ff9b661",
   "metadata": {},
   "outputs": [
    {
     "name": "stdout",
     "output_type": "stream",
     "text": [
      "짬뽕먹고싶다\n"
     ]
    }
   ],
   "source": [
    "if a == 10 or b ==25: #이것 또는 이것 => 두 개의 조건문 중 하나만 성립해도 True가 되어 값이 출력된다.\n",
    "    print(\"짬뽕먹고싶다\")"
   ]
  },
  {
   "cell_type": "code",
   "execution_count": null,
   "id": "bea9b4c8-bd09-4455-a79b-d0832d3e6806",
   "metadata": {},
   "outputs": [
    {
     "name": "stdout",
     "output_type": "stream",
     "text": [
      "a는 음수\n",
      "a는 음수\n"
     ]
    }
   ],
   "source": [
    "a = -1\n",
    "#a 가 음수인지 양수인지 0인지 확인하세요(문제)\n",
    "if a < 0:\n",
    "    print(\"a는 음수\")\n",
    "if a > 0:\n",
    "    print(\"a는 양수\")\n",
    "if a == 0:\n",
    "    print(\"0\")\n",
    "\n",
    "if a < 0:\n",
    "    print(\"a는 음수\")\n",
    "elif a >0:\n",
    "    print(\"a는 양수\")\n",
    "else:\n",
    "    print(\"a는 0\")\n",
    "    #파이썬은 인터프리터 언어이기때문에 한번에 실행하기 위해서 아래와같이 작성한다.\n",
    "    #(묶어서 사용할시 조건이 맞으면 실행문을 실행하고 나머지는 건너뛴다 ->하나만 눌러도 실행 가능)"
   ]
  },
  {
   "cell_type": "code",
   "execution_count": null,
   "id": "62df5c21-372e-4666-9e93-88abd1a73243",
   "metadata": {},
   "outputs": [
    {
     "name": "stdout",
     "output_type": "stream",
     "text": [
      "a는 0이 아닙니다\n"
     ]
    }
   ],
   "source": [
    "if a == 0:\n",
    "    print(\"a는 0입니다\") #조건이 두개면 반드시 elif 를 사용해야하는것은 아님\n",
    "else: # 위의 조건을 하나도 충족하지 못할시 출력\n",
    "    print(\"a는 0이 아닙니다\")"
   ]
  },
  {
   "cell_type": "code",
   "execution_count": null,
   "id": "88295ad6-03da-4cac-809b-ec51d684cd3b",
   "metadata": {},
   "outputs": [],
   "source": [
    "#반복문 - while / for"
   ]
  },
  {
   "cell_type": "code",
   "execution_count": null,
   "id": "53ab9689-2af8-4343-a48e-a46d69b29851",
   "metadata": {},
   "outputs": [
    {
     "ename": "NameError",
     "evalue": "name 'prin' is not defined",
     "output_type": "error",
     "traceback": [
      "\u001b[1;31m---------------------------------------------------------------------------\u001b[0m",
      "\u001b[1;31mNameError\u001b[0m                                 Traceback (most recent call last)",
      "Cell \u001b[1;32mIn[59], line 2\u001b[0m\n\u001b[0;32m      1\u001b[0m \u001b[38;5;28;01mwhile\u001b[39;00m \u001b[38;5;28;01mTrue\u001b[39;00m:\n\u001b[1;32m----> 2\u001b[0m     prin(\u001b[38;5;124m\"\u001b[39m\u001b[38;5;124m반복하자\u001b[39m\u001b[38;5;124m\"\u001b[39m)\n",
      "\u001b[1;31mNameError\u001b[0m: name 'prin' is not defined"
     ]
    }
   ],
   "source": [
    "while True:\n",
    "    print(\"반복하자\") #무한루프 - 이 while문이 종료될수있도록 코드를 작성하는 것이 중요하다 "
   ]
  },
  {
   "cell_type": "code",
   "execution_count": null,
   "id": "3b733040-2ddb-4483-adf4-a084e2f8ef5c",
   "metadata": {},
   "outputs": [
    {
     "name": "stdout",
     "output_type": "stream",
     "text": [
      "0\n",
      "1\n",
      "2\n",
      "3\n",
      "4\n",
      "5\n",
      "6\n",
      "7\n",
      "8\n",
      "9\n"
     ]
    }
   ],
   "source": [
    "count = 0\n",
    "\n",
    "while count < 10: #계속 반복하면서 10부터는 False가 되어서 9까지만 출력하고 멈춘다\n",
    "    print(count)\n",
    "    count += 1  #=/count = count + 1"
   ]
  },
  {
   "cell_type": "code",
   "execution_count": null,
   "id": "7641e69b-db86-4002-9aad-36903112d210",
   "metadata": {
    "scrolled": true
   },
   "outputs": [
    {
     "name": "stdout",
     "output_type": "stream",
     "text": [
      "0\n",
      "1\n",
      "2\n",
      "3\n",
      "4\n",
      "5\n",
      "6\n",
      "7\n",
      "8\n",
      "9\n"
     ]
    }
   ],
   "source": [
    "for i in range(0,10):\n",
    "    print(i)"
   ]
  },
  {
   "cell_type": "code",
   "execution_count": null,
   "id": "6f0f8647-df71-4b8a-821f-6275099f8927",
   "metadata": {},
   "outputs": [
    {
     "data": {
      "text/plain": [
       "[0, 1, 2, 3, 4, 5, 6, 7, 8, 9]"
      ]
     },
     "execution_count": 65,
     "metadata": {},
     "output_type": "execute_result"
    }
   ],
   "source": [
    "list(range(0,10))"
   ]
  },
  {
   "cell_type": "code",
   "execution_count": null,
   "id": "8af613f5-d1bf-4d38-9df6-5631d7cea088",
   "metadata": {},
   "outputs": [
    {
     "name": "stdout",
     "output_type": "stream",
     "text": [
      "0\n",
      "1\n",
      "2\n",
      "3\n",
      "4\n",
      "5\n",
      "6\n",
      "7\n",
      "8\n",
      "9\n"
     ]
    }
   ],
   "source": [
    "for i in [0,1,2,3,4,5,6,7,8,9]:\n",
    "    print(i)"
   ]
  },
  {
   "cell_type": "code",
   "execution_count": null,
   "id": "7fb50e2a-2f3a-428a-a2ad-0fdf7ab84cfb",
   "metadata": {},
   "outputs": [
    {
     "data": {
      "text/plain": [
       "[0, 2, 4, 6, 8]"
      ]
     },
     "execution_count": 67,
     "metadata": {},
     "output_type": "execute_result"
    }
   ],
   "source": [
    " list(range(0,10,2)) #3개 => 간격을 마지막 수로 설정해라"
   ]
  },
  {
   "cell_type": "code",
   "execution_count": null,
   "id": "b7f8da73-fbac-4aa7-8ece-a00114e39d81",
   "metadata": {},
   "outputs": [
    {
     "data": {
      "text/plain": [
       "range(0, 10)"
      ]
     },
     "execution_count": 68,
     "metadata": {},
     "output_type": "execute_result"
    }
   ],
   "source": [
    "range(0,10)"
   ]
  },
  {
   "cell_type": "code",
   "execution_count": null,
   "id": "c9b852da-9d7e-439f-af75-a89d6887885b",
   "metadata": {},
   "outputs": [
    {
     "name": "stdout",
     "output_type": "stream",
     "text": [
      "짱구\n",
      "철수\n",
      "유리\n",
      "맹구\n",
      "훈이\n"
     ]
    }
   ],
   "source": [
    "for name in [\"짱구\", \"철수\", \"유리\", \"맹구\", \"훈이\"]:\n",
    "    if name == \"철수\":\n",
    "        continue #여기서 처음의 for로 돌아간다 -> 올라가서 조건이 맞는 문자를 걸러냄\n",
    "    print(name)#list는 반드시 숫자일 필요가 없다\n",
    "    #continue사용하면 조건에 맞지 않으면 아래 코드는 실행하지 않고 위로 돌아감 -> 코드 생략\n"
   ]
  },
  {
   "cell_type": "code",
   "execution_count": null,
   "id": "e562b56b-98b3-491e-8c4f-7571e6d02964",
   "metadata": {},
   "outputs": [
    {
     "ename": "NameError",
     "evalue": "name '짱구' is not defined",
     "output_type": "error",
     "traceback": [
      "\u001b[1;31m---------------------------------------------------------------------------\u001b[0m",
      "\u001b[1;31mNameError\u001b[0m                                 Traceback (most recent call last)",
      "Cell \u001b[1;32mIn[73], line 2\u001b[0m\n\u001b[0;32m      1\u001b[0m name \u001b[38;5;241m=\u001b[39m \u001b[38;5;124m\"\u001b[39m\u001b[38;5;124m짱구\u001b[39m\u001b[38;5;124m\"\u001b[39m\n\u001b[1;32m----> 2\u001b[0m \u001b[38;5;28;01mif\u001b[39;00m name \u001b[38;5;129;01mis\u001b[39;00m 짱구:\n\u001b[0;32m      3\u001b[0m     \u001b[38;5;28mprint\u001b[39m(\u001b[38;5;124m\"\u001b[39m\u001b[38;5;124m초코비\u001b[39m\u001b[38;5;124m\"\u001b[39m)\n",
      "\u001b[1;31mNameError\u001b[0m: name '짱구' is not defined"
     ]
    }
   ],
   "source": [
    "name = \"짱구\"\n",
    "if name is \"짱구\":\n",
    "    print(\"초코비\")\n",
    "    "
   ]
  },
  {
   "cell_type": "code",
   "execution_count": null,
   "id": "69e73eb3-c54d-449e-9d7f-23d0662ef0d9",
   "metadata": {},
   "outputs": [],
   "source": [
    "for i in range(0,5):\n",
    "    continue #continue -> 조건에 맞지 않으면 아래 코드는 스킵하고 위로 돌아간다\n",
    "    print(i)"
   ]
  },
  {
   "cell_type": "code",
   "execution_count": null,
   "id": "843244a8-4519-4912-8cd7-d3e14b164bd9",
   "metadata": {},
   "outputs": [],
   "source": [
    "for i in range(0,5): # 0,1,2,3,4\n",
    "    if i == 2: #break가 있을 경우 아예 종료되어버림\n",
    "        break\n",
    "        print(i) #continue 와 break는  while문에서도 사용 가능"
   ]
  },
  {
   "cell_type": "code",
   "execution_count": null,
   "id": "5bfb48e6-3fa0-4e42-9199-5e4db0382ce0",
   "metadata": {},
   "outputs": [],
   "source": [
    "while True:\n",
    "    break\n",
    "    print(\"참입니다\")"
   ]
  },
  {
   "cell_type": "code",
   "execution_count": null,
   "id": "3be5eff5-6624-4d3e-9af2-a8460f94ac49",
   "metadata": {},
   "outputs": [
    {
     "name": "stdout",
     "output_type": "stream",
     "text": [
      "i :  0\n",
      "j :  0\n",
      "j :  1\n",
      "j :  2\n",
      "j :  3\n",
      "j :  4\n",
      "i :  1\n",
      "j :  0\n",
      "j :  1\n",
      "j :  2\n",
      "j :  3\n",
      "j :  4\n",
      "i :  2\n",
      "j :  0\n",
      "j :  1\n",
      "j :  2\n",
      "j :  3\n",
      "j :  4\n",
      "i :  3\n",
      "j :  0\n",
      "j :  1\n",
      "j :  2\n",
      "j :  3\n",
      "j :  4\n",
      "i :  4\n",
      "j :  0\n",
      "j :  1\n",
      "j :  2\n",
      "j :  3\n",
      "j :  4\n"
     ]
    }
   ],
   "source": [
    "for i in range(0,5): #이중반복문\n",
    "    print(\"i : \",i)\n",
    "    for j in range(0,5):\n",
    "        print(\"j : \", j)"
   ]
  },
  {
   "cell_type": "code",
   "execution_count": null,
   "id": "9a0641ce-aa23-49ee-807d-4a221f1d4ca1",
   "metadata": {},
   "outputs": [
    {
     "name": "stdout",
     "output_type": "stream",
     "text": [
      "<class 'str'>"
     ]
    }
   ],
   "source": [
    "print(str, end='')"
   ]
  },
  {
   "cell_type": "code",
   "execution_count": null,
   "id": "90b4a918-e100-43a0-a43d-c7db151b5a98",
   "metadata": {},
   "outputs": [
    {
     "name": "stdout",
     "output_type": "stream",
     "text": [
      "<class 'str'> "
     ]
    }
   ],
   "source": [
    "print(str, end=' ')"
   ]
  },
  {
   "cell_type": "code",
   "execution_count": null,
   "id": "fdfab647-9073-4731-908d-b01f7a4ff886",
   "metadata": {},
   "outputs": [
    {
     "name": "stdout",
     "output_type": "stream",
     "text": [
      " 장서아\n"
     ]
    },
    {
     "data": {
      "text/plain": [
       "'장서아'"
      ]
     },
     "execution_count": 99,
     "metadata": {},
     "output_type": "execute_result"
    }
   ],
   "source": [
    "input() => #문자 형태로 인식 / 변수를 지정함"
   ]
  },
  {
   "cell_type": "code",
   "execution_count": null,
   "id": "67a60ae1-837d-4e37-9f1d-4a227713d3bf",
   "metadata": {},
   "outputs": [
    {
     "name": "stdout",
     "output_type": "stream",
     "text": [
      " 집에가고싶다\n"
     ]
    }
   ],
   "source": [
    "name = input()"
   ]
  },
  {
   "cell_type": "code",
   "execution_count": null,
   "id": "364a1512-d4c2-45c7-ba65-38199381f78d",
   "metadata": {},
   "outputs": [
    {
     "data": {
      "text/plain": [
       "'집에가고싶다'"
      ]
     },
     "execution_count": 102,
     "metadata": {},
     "output_type": "execute_result"
    }
   ],
   "source": [
    "name"
   ]
  },
  {
   "cell_type": "code",
   "execution_count": null,
   "id": "d5c3cee1-4b87-4c45-8894-14c875843f5b",
   "metadata": {},
   "outputs": [
    {
     "name": "stdout",
     "output_type": "stream",
     "text": [
      "사과는 몇 개? 2개\n"
     ]
    }
   ],
   "source": [
    "apple = input(\"사과는 몇 개?\")"
   ]
  },
  {
   "cell_type": "code",
   "execution_count": null,
   "id": "c99f482e-5fa0-423e-8c5b-c360c009cda8",
   "metadata": {},
   "outputs": [
    {
     "data": {
      "text/plain": [
       "'2개'"
      ]
     },
     "execution_count": 104,
     "metadata": {},
     "output_type": "execute_result"
    }
   ],
   "source": [
    "apple #숫자로 입력했지만 문자 형태로 입력됨"
   ]
  },
  {
   "cell_type": "code",
   "execution_count": null,
   "id": "94bf77b6-f604-411a-ac12-c8010d0a1a83",
   "metadata": {},
   "outputs": [
    {
     "name": "stdout",
     "output_type": "stream",
     "text": [
      "바나나는 몇개? 100000개\n"
     ]
    }
   ],
   "source": [
    "banana = input(\"바나나는 몇개?\")"
   ]
  },
  {
   "cell_type": "code",
   "execution_count": null,
   "id": "f34ad9d9-6c6e-40a1-86f9-bcbae2b8f621",
   "metadata": {},
   "outputs": [
    {
     "name": "stdout",
     "output_type": "stream",
     "text": [
      "100000개\n"
     ]
    }
   ],
   "source": [
    "print(banana)"
   ]
  },
  {
   "cell_type": "code",
   "execution_count": null,
   "id": "464eb8b0-5798-4dc5-b2b9-6ba2882217af",
   "metadata": {},
   "outputs": [],
   "source": [
    "sum = apple+banana #문자이므로 더할 수 없다."
   ]
  },
  {
   "cell_type": "code",
   "execution_count": null,
   "id": "a2e218fc-f946-4c6a-b110-cf7063da0c14",
   "metadata": {},
   "outputs": [],
   "source": [
    "sum = int(apple) + int(banana)"
   ]
  },
  {
   "cell_type": "code",
   "execution_count": null,
   "id": "d532b967-99e5-42ba-8e1f-34bb38ec6a4b",
   "metadata": {},
   "outputs": [
    {
     "data": {
      "text/plain": [
       "4"
      ]
     },
     "execution_count": 115,
     "metadata": {},
     "output_type": "execute_result"
    }
   ],
   "source": [
    "sum"
   ]
  },
  {
   "cell_type": "code",
   "execution_count": null,
   "id": "f126defc-db68-4093-be22-55c25db14ab4",
   "metadata": {},
   "outputs": [
    {
     "name": "stdout",
     "output_type": "stream",
     "text": [
      "바나나는 몇개? 2\n"
     ]
    }
   ],
   "source": [
    "banana = input(\"바나나는 몇개?\")"
   ]
  },
  {
   "cell_type": "code",
   "execution_count": null,
   "id": "f7c9d726-46f7-4362-aaeb-93b674047a66",
   "metadata": {},
   "outputs": [
    {
     "name": "stdout",
     "output_type": "stream",
     "text": [
      "사과는 몇 개? 2\n"
     ]
    }
   ],
   "source": [
    "apple = input(\"사과는 몇 개?\")"
   ]
  },
  {
   "cell_type": "code",
   "execution_count": null,
   "id": "9d0e73d7-94a5-4321-ad75-6137e6164f5d",
   "metadata": {},
   "outputs": [
    {
     "name": "stdout",
     "output_type": "stream",
     "text": [
      "pen pineapple apple pen\n"
     ]
    }
   ],
   "source": [
    "print(\"pen pineapple apple pen\")"
   ]
  },
  {
   "cell_type": "code",
   "execution_count": null,
   "id": "5d2a8bc2-6a70-4d50-ac16-541257c6ccbd",
   "metadata": {},
   "outputs": [
    {
     "name": "stdout",
     "output_type": "stream",
     "text": [
      "pen pineapple apple pen\n"
     ]
    }
   ],
   "source": [
    "print(\"pen\",\"pineapple\",\"apple\",\"pen\") #,를 넣으면 띄어쓰기가 들어감 "
   ]
  },
  {
   "cell_type": "code",
   "execution_count": null,
   "id": "359b5e32-71a4-4b1f-b2e6-5294bf95a171",
   "metadata": {},
   "outputs": [
    {
     "name": "stdout",
     "output_type": "stream",
     "text": [
      "pen 5\n"
     ]
    }
   ],
   "source": [
    "print(\"pen\",5) #자료형이 다른 값도 ,를 통해 묶어서 함께 출력할 수 있다."
   ]
  },
  {
   "cell_type": "code",
   "execution_count": null,
   "id": "fe85ef7c-afe2-4550-9246-9d8011047986",
   "metadata": {},
   "outputs": [
    {
     "name": "stdout",
     "output_type": "stream",
     "text": [
      "penpineappleapplepen\n"
     ]
    }
   ],
   "source": [
    "print(\"pen\"+\"pineapple\"+\"apple\"+\"pen\")"
   ]
  },
  {
   "cell_type": "code",
   "execution_count": null,
   "id": "2b1889cb-7758-4e0f-b4a4-099fba54bba8",
   "metadata": {},
   "outputs": [
    {
     "ename": "TypeError",
     "evalue": "can only concatenate str (not \"int\") to str",
     "output_type": "error",
     "traceback": [
      "\u001b[1;31m---------------------------------------------------------------------------\u001b[0m",
      "\u001b[1;31mTypeError\u001b[0m                                 Traceback (most recent call last)",
      "Cell \u001b[1;32mIn[121], line 1\u001b[0m\n\u001b[1;32m----> 1\u001b[0m \u001b[38;5;28mprint\u001b[39m(\u001b[38;5;124m\"\u001b[39m\u001b[38;5;124mpen\u001b[39m\u001b[38;5;124m\"\u001b[39m\u001b[38;5;241m+\u001b[39m\u001b[38;5;241m5\u001b[39m)\n",
      "\u001b[1;31mTypeError\u001b[0m: can only concatenate str (not \"int\") to str"
     ]
    }
   ],
   "source": [
    "print(\"pen\"+5 #타입이 서로 달라서 연산할 수 없다."
   ]
  },
  {
   "cell_type": "code",
   "execution_count": null,
   "id": "ac46f649-9f4a-464a-8bda-e9a76e84f89a",
   "metadata": {},
   "outputs": [
    {
     "name": "stdout",
     "output_type": "stream",
     "text": [
      "pen pineapple"
     ]
    }
   ],
   "source": [
    "print(\"pen\", end=' ') #백슬레쉬는 엔터를 의미함\n",
    "print(\"pineapple\",end=\"\")"
   ]
  },
  {
   "cell_type": "code",
   "execution_count": null,
   "id": "7846f105-3cbd-41f6-a60a-69fd6e0aa520",
   "metadata": {},
   "outputs": [],
   "source": [
    "#\\n = enter / \\t = tab"
   ]
  },
  {
   "cell_type": "code",
   "execution_count": null,
   "id": "cdfa26ac-9125-4efa-959e-7a9de7d7062a",
   "metadata": {},
   "outputs": [],
   "source": []
  },
  {
   "cell_type": "code",
   "execution_count": null,
   "id": "9f7b541f-d33d-4769-b5e0-09bd873676ce",
   "metadata": {},
   "outputs": [],
   "source": []
  },
  {
   "cell_type": "code",
   "execution_count": null,
   "id": "22801233-e395-4c3a-a3b3-b39e3c1a4074",
   "metadata": {},
   "outputs": [],
   "source": []
  },
  {
   "cell_type": "code",
   "execution_count": null,
   "id": "bb34d1b5-e055-478e-9d57-cb474953caa6",
   "metadata": {},
   "outputs": [],
   "source": []
  },
  {
   "cell_type": "code",
   "execution_count": null,
   "id": "8fd89712-9c0e-4664-86c8-34d7eff44f30",
   "metadata": {},
   "outputs": [],
   "source": []
  },
  {
   "cell_type": "code",
   "execution_count": null,
   "id": "b1ef9686-ace8-4ca6-a00c-ecc6ecff6132",
   "metadata": {},
   "outputs": [],
   "source": []
  },
  {
   "cell_type": "code",
   "execution_count": null,
   "id": "e641fb94-4275-4752-b421-22ed1ce0237a",
   "metadata": {},
   "outputs": [],
   "source": []
  },
  {
   "cell_type": "code",
   "execution_count": null,
   "id": "bed361f4-8e02-42b9-89e0-a676ee67681e",
   "metadata": {},
   "outputs": [],
   "source": []
  },
  {
   "cell_type": "code",
   "execution_count": null,
   "id": "243c2b06-d6e3-4357-bd0b-1b4d259a0e37",
   "metadata": {},
   "outputs": [],
   "source": []
  },
  {
   "cell_type": "code",
   "execution_count": null,
   "id": "22117c59-4331-448b-980a-f0bb6623394b",
   "metadata": {},
   "outputs": [],
   "source": []
  },
  {
   "cell_type": "code",
   "execution_count": null,
   "id": "915d5563-12a2-4760-a3eb-d6ec196fef12",
   "metadata": {},
   "outputs": [],
   "source": []
  },
  {
   "cell_type": "code",
   "execution_count": null,
   "id": "e237dcdf-be4e-41ac-8387-8d050308eccc",
   "metadata": {},
   "outputs": [],
   "source": []
  },
  {
   "cell_type": "code",
   "execution_count": null,
   "id": "ef5f6d3d-2aaa-4637-a4ef-d823d0c6e484",
   "metadata": {},
   "outputs": [],
   "source": []
  },
  {
   "cell_type": "code",
   "execution_count": null,
   "id": "3cb5f81f-fc9d-47da-8a87-539eca23ae92",
   "metadata": {},
   "outputs": [],
   "source": []
  },
  {
   "cell_type": "code",
   "execution_count": null,
   "id": "fd9fd61d-e386-4aca-a785-8003276003fd",
   "metadata": {},
   "outputs": [],
   "source": []
  },
  {
   "cell_type": "code",
   "execution_count": null,
   "id": "ba6b54c9-88b5-499a-94cf-7cf39c8e862b",
   "metadata": {},
   "outputs": [],
   "source": []
  }
 ],
 "metadata": {
  "kernelspec": {
   "display_name": "Python [conda env:base] *",
   "language": "python",
   "name": "conda-base-py"
  },
  "language_info": {
   "codemirror_mode": {
    "name": "ipython",
    "version": 3
   },
   "file_extension": ".py",
   "mimetype": "text/x-python",
   "name": "python",
   "nbconvert_exporter": "python",
   "pygments_lexer": "ipython3",
   "version": "3.12.7"
  }
 },
 "nbformat": 4,
 "nbformat_minor": 5
}
