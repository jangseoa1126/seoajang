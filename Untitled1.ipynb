{
 "cells": [
  {
   "cell_type": "code",
   "execution_count": 22,
   "id": "cd4ead89-458b-4db8-8987-e414c6edb0fa",
   "metadata": {},
   "outputs": [],
   "source": [
    "class Count:\n",
    "    def __init__(self):\n",
    "        self.num = 0 #변수의 이름은 중복되면 먼저 지정한 것이 지워진다(파이썬은 순서대로 실행되는 인터페이스 언어이므로 후에 선언된 값이된다)\n",
    "        self.name =\"장서아\"\n",
    "    def increment(self): #함수이기 때문에 중복해도 그냥 함께 실행된다\n",
    "        self.num += 1\n",
    "        self.num -= 1\n",
    "        return self.num #없어도 나옴\n",
    "        "
   ]
  },
  {
   "cell_type": "code",
   "execution_count": 24,
   "id": "2002274e-f6be-4658-8977-6767dfa42655",
   "metadata": {},
   "outputs": [
    {
     "data": {
      "text/plain": [
       "0"
      ]
     },
     "execution_count": 24,
     "metadata": {},
     "output_type": "execute_result"
    }
   ],
   "source": [
    "C.num"
   ]
  },
  {
   "cell_type": "code",
   "execution_count": 71,
   "id": "1f1cb354-41b9-4f1e-97a2-7d0121725681",
   "metadata": {},
   "outputs": [
    {
     "data": {
      "text/plain": [
       "'장서아'"
      ]
     },
     "execution_count": 71,
     "metadata": {},
     "output_type": "execute_result"
    }
   ],
   "source": [
    "C.name"
   ]
  },
  {
   "cell_type": "code",
   "execution_count": 25,
   "id": "86f8cff3-0042-4d8a-9bd0-d6285a2e9720",
   "metadata": {},
   "outputs": [
    {
     "data": {
      "text/plain": [
       "1"
      ]
     },
     "execution_count": 25,
     "metadata": {},
     "output_type": "execute_result"
    }
   ],
   "source": [
    "C.increment() #변수가 아닌 함수이기 때문에 다른것들과 다르게 괄호를 사용"
   ]
  },
  {
   "cell_type": "code",
   "execution_count": 26,
   "id": "1404bf89-65ab-4174-b036-8cf0ae377856",
   "metadata": {},
   "outputs": [
    {
     "data": {
      "text/plain": [
       "'장서아'"
      ]
     },
     "execution_count": 26,
     "metadata": {},
     "output_type": "execute_result"
    }
   ],
   "source": [
    "C.name"
   ]
  },
  {
   "cell_type": "code",
   "execution_count": 32,
   "id": "d6647d2f-ce6d-4fa8-87a2-ee7e2d3db988",
   "metadata": {},
   "outputs": [],
   "source": [
    "d = Count()"
   ]
  },
  {
   "cell_type": "code",
   "execution_count": 30,
   "id": "29aa9d5b-6cf2-42ae-8bf1-2b696327b581",
   "metadata": {},
   "outputs": [
    {
     "data": {
      "text/plain": [
       "0"
      ]
     },
     "execution_count": 30,
     "metadata": {},
     "output_type": "execute_result"
    }
   ],
   "source": [
    "d.num #같은 num이지만 각각 다른 객체로 사용할 수 있다"
   ]
  },
  {
   "cell_type": "code",
   "execution_count": 34,
   "id": "d3d7ed1b-5605-4165-bc51-109836d7947d",
   "metadata": {},
   "outputs": [],
   "source": [
    "import os #모듈을 불러올때 사용하는 파이썬 명령어"
   ]
  },
  {
   "cell_type": "code",
   "execution_count": 35,
   "id": "b0c7f9b4-5daf-4a2f-8320-466863189885",
   "metadata": {},
   "outputs": [
    {
     "data": {
      "text/plain": [
       "['.git',\n",
       " '.ipynb_checkpoints',\n",
       " 'anaconda',\n",
       " 'ARGV',\n",
       " 'go_to_home.ipynb',\n",
       " 'README.md',\n",
       " 'test.py',\n",
       " 'Untitled.ipynb',\n",
       " 'Untitled1.ipynb']"
      ]
     },
     "execution_count": 35,
     "metadata": {},
     "output_type": "execute_result"
    }
   ],
   "source": [
    "os.listdir()"
   ]
  },
  {
   "cell_type": "code",
   "execution_count": null,
   "id": "681924a6-2ba3-4d98-bc62-d11de4785b52",
   "metadata": {},
   "outputs": [],
   "source": [
    "#os처럼 기본적으로 제공되는 모듈도 있지만 직접 만들 수도 있다"
   ]
  },
  {
   "cell_type": "code",
   "execution_count": 41,
   "id": "2bd9f19d-1895-49ad-8c83-ce3afe0f46a6",
   "metadata": {},
   "outputs": [
    {
     "ename": "TypeError",
     "evalue": "can only concatenate str (not \"int\") to str",
     "output_type": "error",
     "traceback": [
      "\u001b[31m---------------------------------------------------------------------------\u001b[39m",
      "\u001b[31mTypeError\u001b[39m                                 Traceback (most recent call last)",
      "\u001b[36mCell\u001b[39m\u001b[36m \u001b[39m\u001b[32mIn[41]\u001b[39m\u001b[32m, line 3\u001b[39m\n\u001b[32m      1\u001b[39m \u001b[38;5;28mstr\u001b[39m(\u001b[33m\"\u001b[39m\u001b[33ma\u001b[39m\u001b[33m\"\u001b[39m)\n\u001b[32m----> \u001b[39m\u001b[32m3\u001b[39m \u001b[33;43m\"\u001b[39;49m\u001b[33;43ma\u001b[39;49m\u001b[33;43m\"\u001b[39;49m\u001b[43m \u001b[49m\u001b[43m+\u001b[49m\u001b[43m \u001b[49m\u001b[32;43m1\u001b[39;49m\n",
      "\u001b[31mTypeError\u001b[39m: can only concatenate str (not \"int\") to str"
     ]
    }
   ],
   "source": [
    "str(\"a\")\n",
    "\n",
    "\"a\" + 1\n",
    "\n",
    "\n",
    "\n"
   ]
  },
  {
   "cell_type": "code",
   "execution_count": 45,
   "id": "2dbb553d-2cb7-45c2-95d4-bd81dd134416",
   "metadata": {},
   "outputs": [],
   "source": [
    "a = [1,2,3]"
   ]
  },
  {
   "cell_type": "code",
   "execution_count": 46,
   "id": "d17fce22-e0c4-45f3-a1b1-4abd80a17076",
   "metadata": {},
   "outputs": [
    {
     "ename": "IndexError",
     "evalue": "list index out of range",
     "output_type": "error",
     "traceback": [
      "\u001b[31m---------------------------------------------------------------------------\u001b[39m",
      "\u001b[31mIndexError\u001b[39m                                Traceback (most recent call last)",
      "\u001b[36mCell\u001b[39m\u001b[36m \u001b[39m\u001b[32mIn[46]\u001b[39m\u001b[32m, line 1\u001b[39m\n\u001b[32m----> \u001b[39m\u001b[32m1\u001b[39m \u001b[43ma\u001b[49m\u001b[43m[\u001b[49m\u001b[32;43m3\u001b[39;49m\u001b[43m]\u001b[49m\n",
      "\u001b[31mIndexError\u001b[39m: list index out of range"
     ]
    }
   ],
   "source": [
    "a[3] #인덱스의 값이 범위내에 없다"
   ]
  },
  {
   "cell_type": "code",
   "execution_count": 47,
   "id": "9ab2580c-daf4-4798-97ad-31ae1e5e4dc6",
   "metadata": {},
   "outputs": [],
   "source": [
    "a = {\"a\":1} "
   ]
  },
  {
   "cell_type": "code",
   "execution_count": 49,
   "id": "bda8760c-ee60-4307-b737-b28b986b1428",
   "metadata": {},
   "outputs": [
    {
     "data": {
      "text/plain": [
       "1"
      ]
     },
     "execution_count": 49,
     "metadata": {},
     "output_type": "execute_result"
    }
   ],
   "source": [
    "a[\"a\"]"
   ]
  },
  {
   "cell_type": "code",
   "execution_count": 50,
   "id": "020661b4-6c3d-4ad1-8816-8b09de93dff4",
   "metadata": {},
   "outputs": [],
   "source": [
    "import os"
   ]
  },
  {
   "cell_type": "code",
   "execution_count": 51,
   "id": "44308ff0-49a5-4b8c-bea6-6b163d2579fe",
   "metadata": {},
   "outputs": [
    {
     "ename": "ModuleNotFoundError",
     "evalue": "No module named 'Jangseoa'",
     "output_type": "error",
     "traceback": [
      "\u001b[31m---------------------------------------------------------------------------\u001b[39m",
      "\u001b[31mModuleNotFoundError\u001b[39m                       Traceback (most recent call last)",
      "\u001b[36mCell\u001b[39m\u001b[36m \u001b[39m\u001b[32mIn[51]\u001b[39m\u001b[32m, line 1\u001b[39m\n\u001b[32m----> \u001b[39m\u001b[32m1\u001b[39m \u001b[38;5;28;01mimport\u001b[39;00m\u001b[38;5;250m \u001b[39m\u001b[34;01mJangseoa\u001b[39;00m\n",
      "\u001b[31mModuleNotFoundError\u001b[39m: No module named 'Jangseoa'"
     ]
    }
   ],
   "source": [
    "import Jangseoa #존재하지 않는 모듈"
   ]
  },
  {
   "cell_type": "code",
   "execution_count": 52,
   "id": "8f373b73-f881-497e-abba-acea2cbb8949",
   "metadata": {},
   "outputs": [],
   "source": [
    "num = 10"
   ]
  },
  {
   "cell_type": "code",
   "execution_count": 53,
   "id": "38cd92d8-3c63-4f90-b6d1-8dc7ad0dcbc4",
   "metadata": {},
   "outputs": [
    {
     "ename": "AttributeError",
     "evalue": "'int' object has no attribute 'append'",
     "output_type": "error",
     "traceback": [
      "\u001b[31m---------------------------------------------------------------------------\u001b[39m",
      "\u001b[31mAttributeError\u001b[39m                            Traceback (most recent call last)",
      "\u001b[36mCell\u001b[39m\u001b[36m \u001b[39m\u001b[32mIn[53]\u001b[39m\u001b[32m, line 1\u001b[39m\n\u001b[32m----> \u001b[39m\u001b[32m1\u001b[39m \u001b[43mnum\u001b[49m\u001b[43m.\u001b[49m\u001b[43mappend\u001b[49m(\u001b[32m5\u001b[39m)\n",
      "\u001b[31mAttributeError\u001b[39m: 'int' object has no attribute 'append'"
     ]
    }
   ],
   "source": [
    "num.append(5)"
   ]
  },
  {
   "cell_type": "code",
   "execution_count": 54,
   "id": "a8f95e67-3ffd-4edd-9ca9-939aedba200c",
   "metadata": {},
   "outputs": [],
   "source": [
    "a = [1,2,3]"
   ]
  },
  {
   "cell_type": "code",
   "execution_count": 55,
   "id": "d13059a5-0baf-43b1-ba36-04a612ceddb3",
   "metadata": {},
   "outputs": [],
   "source": [
    "a.append(4) #성공적으로 4를 추가함 /append는 리스트에서만 사용 객체에서는 사용하지 x"
   ]
  },
  {
   "cell_type": "code",
   "execution_count": 56,
   "id": "1ac2f30d-834c-4f59-bda1-ac5087d77e61",
   "metadata": {},
   "outputs": [
    {
     "name": "stdout",
     "output_type": "stream",
     "text": [
      "[1, 2, 3, 4]\n"
     ]
    }
   ],
   "source": [
    "print(a)"
   ]
  },
  {
   "cell_type": "code",
   "execution_count": 57,
   "id": "28c98f56-a578-480d-9089-d30c31a63abc",
   "metadata": {},
   "outputs": [
    {
     "name": "stdout",
     "output_type": "stream",
     "text": [
      "Hello\n"
     ]
    }
   ],
   "source": [
    "print(\"Hello\")"
   ]
  },
  {
   "cell_type": "code",
   "execution_count": 58,
   "id": "596a3460-81a6-49f2-9b4b-12fcc9aa0d5a",
   "metadata": {},
   "outputs": [
    {
     "ename": "SyntaxError",
     "evalue": "unterminated string literal (detected at line 1) (1371898898.py, line 1)",
     "output_type": "error",
     "traceback": [
      "  \u001b[36mCell\u001b[39m\u001b[36m \u001b[39m\u001b[32mIn[58]\u001b[39m\u001b[32m, line 1\u001b[39m\n\u001b[31m    \u001b[39m\u001b[31mprint(\"Hello)\u001b[39m\n          ^\n\u001b[31mSyntaxError\u001b[39m\u001b[31m:\u001b[39m unterminated string literal (detected at line 1)\n"
     ]
    }
   ],
   "source": [
    "print(\"Hello) \n",
    "      #잘못써서 발생한 에러"
   ]
  },
  {
   "cell_type": "code",
   "execution_count": 59,
   "id": "84563211-92fa-45a7-9624-7434a574b210",
   "metadata": {},
   "outputs": [
    {
     "name": "stdout",
     "output_type": "stream",
     "text": [
      "0\n",
      "1\n",
      "2\n",
      "3\n",
      "4\n"
     ]
    }
   ],
   "source": [
    "for i in range(0,5):\n",
    "    print(i)\n",
    "    "
   ]
  },
  {
   "cell_type": "code",
   "execution_count": 60,
   "id": "b5581e95-bdee-498b-900e-afdb43e32698",
   "metadata": {},
   "outputs": [
    {
     "ename": "IndentationError",
     "evalue": "expected an indented block after 'for' statement on line 1 (3577514597.py, line 2)",
     "output_type": "error",
     "traceback": [
      "  \u001b[36mCell\u001b[39m\u001b[36m \u001b[39m\u001b[32mIn[60]\u001b[39m\u001b[32m, line 2\u001b[39m\n\u001b[31m    \u001b[39m\u001b[31mprint(a)  #콜론 다음에는 무조건 들여쓰기를 해야함\u001b[39m\n    ^\n\u001b[31mIndentationError\u001b[39m\u001b[31m:\u001b[39m expected an indented block after 'for' statement on line 1\n"
     ]
    }
   ],
   "source": [
    "for i in range(0,5):\n",
    "print(a)  #콜론 다음에는 무조건 들여쓰기를 해야함"
   ]
  },
  {
   "cell_type": "code",
   "execution_count": null,
   "id": "f6420908-36b4-4de5-9dfd-5327b28b8760",
   "metadata": {},
   "outputs": [],
   "source": [
    "import os"
   ]
  },
  {
   "cell_type": "code",
   "execution_count": 63,
   "id": "f5b4ce3f-3493-4cf1-b5cd-11c576f36c22",
   "metadata": {},
   "outputs": [
    {
     "data": {
      "text/plain": [
       "['main.py', 'test.py', 'text.txt', '__pycache__']"
      ]
     },
     "execution_count": 63,
     "metadata": {},
     "output_type": "execute_result"
    }
   ],
   "source": [
    "os.listdir(\"2025.06.21\")"
   ]
  },
  {
   "cell_type": "code",
   "execution_count": 65,
   "id": "2a01d2bb-7576-4f97-9cfa-d9057f8da453",
   "metadata": {},
   "outputs": [],
   "source": [
    "f = open(\"2025.06.21/text.txt\",\"r\")"
   ]
  },
  {
   "cell_type": "code",
   "execution_count": 66,
   "id": "218c265c-b07a-415c-a3a5-2d624a134f23",
   "metadata": {},
   "outputs": [
    {
     "data": {
      "text/plain": [
       "\"'I miss home'\""
      ]
     },
     "execution_count": 66,
     "metadata": {},
     "output_type": "execute_result"
    }
   ],
   "source": [
    "f.read()"
   ]
  },
  {
   "cell_type": "code",
   "execution_count": 68,
   "id": "c8c71dd4-042d-4934-ba1a-3300a2f3b7cd",
   "metadata": {},
   "outputs": [],
   "source": [
    "text = f.read()"
   ]
  },
  {
   "cell_type": "code",
   "execution_count": 69,
   "id": "2bca1e0c-6780-462f-bc41-2b1a265723e5",
   "metadata": {},
   "outputs": [
    {
     "name": "stdout",
     "output_type": "stream",
     "text": [
      "\n"
     ]
    }
   ],
   "source": [
    "print(text)"
   ]
  },
  {
   "cell_type": "code",
   "execution_count": 90,
   "id": "c9276e07-a82f-4bc9-a806-c261b62ccdc5",
   "metadata": {},
   "outputs": [],
   "source": [
    "f.close() #마지막에 파일을 닫아줘야함"
   ]
  },
  {
   "cell_type": "code",
   "execution_count": 97,
   "id": "1fd9b2e1-95ca-4c93-8971-9cb4a607c0f1",
   "metadata": {},
   "outputs": [],
   "source": [
    "f = open(\"2025.06.21/text.txt\",\"w\")"
   ]
  },
  {
   "cell_type": "code",
   "execution_count": 98,
   "id": "c47c0231-2210-4096-a543-0870450f7c9c",
   "metadata": {},
   "outputs": [],
   "source": [
    "f.write(\"I hate math\")\n",
    "f.close()"
   ]
  },
  {
   "cell_type": "code",
   "execution_count": 100,
   "id": "28a0d409-827b-4320-a3be-1e22dff92606",
   "metadata": {},
   "outputs": [],
   "source": [
    "f = open(\"2025.06.21/text.txt\",\"a\")"
   ]
  },
  {
   "cell_type": "code",
   "execution_count": 101,
   "id": "16570dab-13b3-4b8e-bb0d-a5b89e8cea95",
   "metadata": {},
   "outputs": [],
   "source": [
    "f.write(\"home\")\n",
    "f.close()"
   ]
  },
  {
   "cell_type": "code",
   "execution_count": null,
   "id": "8f4bf6ca-7cc0-414c-802f-903d00e44253",
   "metadata": {},
   "outputs": [],
   "source": [
    "f.close()"
   ]
  },
  {
   "cell_type": "code",
   "execution_count": 104,
   "id": "ab4a1dd0-49a6-4aa0-bc67-5cddc6b30ce7",
   "metadata": {},
   "outputs": [
    {
     "name": "stdout",
     "output_type": "stream",
     "text": [
      "id  menu         price\n",
      "1   pizza          10$\n",
      "2  chicken       15%\n",
      "3  hamburger    5%\n"
     ]
    }
   ],
   "source": [
    "f = open(\"2025.06.21/order.txt\",\"r\") #data에 저장해서 출력\n",
    "data = f.read()\n",
    "print(data)"
   ]
  },
  {
   "cell_type": "code",
   "execution_count": null,
   "id": "9a632c9c-967b-48cb-ad4c-07c32c6e885e",
   "metadata": {},
   "outputs": [],
   "source": []
  },
  {
   "cell_type": "code",
   "execution_count": null,
   "id": "32b7d3a5-babd-4a3f-be17-c4512766ea78",
   "metadata": {},
   "outputs": [],
   "source": []
  },
  {
   "cell_type": "code",
   "execution_count": 109,
   "id": "8655d0fb-15e8-4900-b675-9e373ee47e20",
   "metadata": {},
   "outputs": [
    {
     "name": "stdout",
     "output_type": "stream",
     "text": [
      "id  menu         price\n",
      "\n",
      "1   pizza          10$\n",
      "\n"
     ]
    }
   ],
   "source": [
    "f = open(\"2025.06.21/order.txt\",\"r\")\n",
    "line = f.readline() #데이터를 한 줄씩 읽어온다\n",
    "print(line)\n",
    "line = f.readline() \n",
    "print(line)"
   ]
  },
  {
   "cell_type": "code",
   "execution_count": 116,
   "id": "2ea1b683-0036-466d-94fc-69088d80d660",
   "metadata": {},
   "outputs": [
    {
     "name": "stdout",
     "output_type": "stream",
     "text": [
      "id  menu         price\n",
      "\n",
      "['1   pizza          10$\\n', '2  chicken       15%\\n', '3  hamburger    5%']\n"
     ]
    }
   ],
   "source": [
    "f = open(\"2025.06.21/order.txt\",\"r\")\n",
    "lines = f.readlines()\n",
    "header = lines[0]\n",
    "contents = lines[1:]\n",
    "print(header)\n",
    "print(contents)"
   ]
  },
  {
   "cell_type": "code",
   "execution_count": 119,
   "id": "086ceb51-a86b-4947-a4d4-a1558892edaf",
   "metadata": {},
   "outputs": [
    {
     "data": {
      "text/plain": [
       "['id  menu         price\\n',\n",
       " '1   pizza          10$\\n',\n",
       " '2  chicken       15%\\n',\n",
       " '3  hamburger    5%']"
      ]
     },
     "execution_count": 119,
     "metadata": {},
     "output_type": "execute_result"
    }
   ],
   "source": [
    "with open(\"2025.06.21/order.txt\",\"r\") as f:\n",
    "    lines = f.readlines()\n",
    "\n",
    "lines"
   ]
  },
  {
   "cell_type": "code",
   "execution_count": 132,
   "id": "2f2d7dd0-77cc-48d8-9815-9a4f1f087160",
   "metadata": {},
   "outputs": [
    {
     "data": {
      "text/plain": [
       "'Hello World'"
      ]
     },
     "execution_count": 132,
     "metadata": {},
     "output_type": "execute_result"
    }
   ],
   "source": [
    "# 문자열 관련 함수 => 1.띄어쓰기 포함 a의 문자의 길이\n",
    "a = \"        Hello World       \"\n",
    "\n",
    "len(a)\n",
    "\n",
    "a.strip() #공백을 지운다 앞에 l이나 r을 붙여서 왼쪽 혹은 오른쪽의 공백만 지울 수 있다"
   ]
  },
  {
   "cell_type": "code",
   "execution_count": 133,
   "id": "2985bde2-36d6-47db-9c8c-962310117cb2",
   "metadata": {},
   "outputs": [],
   "source": [
    "a = \"Hello World\""
   ]
  },
  {
   "cell_type": "code",
   "execution_count": 134,
   "id": "0798c07d-4146-4134-9920-ecd5a6b62d36",
   "metadata": {},
   "outputs": [
    {
     "data": {
      "text/plain": [
       "['Hello', 'World']"
      ]
     },
     "execution_count": 134,
     "metadata": {},
     "output_type": "execute_result"
    }
   ],
   "source": [
    "a.split() #괄호안에 아무것도 안쓰면 공백을 기준으로 나눈다/띄어쓰기를 많이 넣어도 하나"
   ]
  },
  {
   "cell_type": "code",
   "execution_count": 135,
   "id": "39830033-e79c-460a-918a-2df20880fd4e",
   "metadata": {},
   "outputs": [
    {
     "data": {
      "text/plain": [
       "['Hell', ' W', 'rld']"
      ]
     },
     "execution_count": 135,
     "metadata": {},
     "output_type": "execute_result"
    }
   ],
   "source": [
    "a.split(\"o\") #임의의 문자를 기준으로 문자열을 나누겠다고 지정할 수 있다."
   ]
  },
  {
   "cell_type": "code",
   "execution_count": 144,
   "id": "110f6d37-7a2d-42a5-b2fb-5cb54928daf4",
   "metadata": {},
   "outputs": [
    {
     "data": {
      "text/plain": [
       "'Hi World'"
      ]
     },
     "execution_count": 144,
     "metadata": {},
     "output_type": "execute_result"
    }
   ],
   "source": [
    "a.replace(\"Hello\",\"Hi\") #수정할때 사용/바꾸고싶은 문자와 그 문자를 바꿀 문자를 괄호안에 적어야함"
   ]
  },
  {
   "cell_type": "code",
   "execution_count": 137,
   "id": "6be45b7f-3611-4ddf-b70d-3b938bddf581",
   "metadata": {},
   "outputs": [
    {
     "data": {
      "text/plain": [
       "'HELLO WORLD'"
      ]
     },
     "execution_count": 137,
     "metadata": {},
     "output_type": "execute_result"
    }
   ],
   "source": [
    "a.upper() #전부 다 대문자"
   ]
  },
  {
   "cell_type": "code",
   "execution_count": 138,
   "id": "8e986b8f-b58c-4c0d-a396-7527fbe62c73",
   "metadata": {},
   "outputs": [
    {
     "data": {
      "text/plain": [
       "'hello world'"
      ]
     },
     "execution_count": 138,
     "metadata": {},
     "output_type": "execute_result"
    }
   ],
   "source": [
    "a.lower() #전부 다 소문자"
   ]
  },
  {
   "cell_type": "code",
   "execution_count": 145,
   "id": "63bf7d0e-48d7-4dd3-bf4a-daa6391bec34",
   "metadata": {},
   "outputs": [
    {
     "data": {
      "text/plain": [
       "True"
      ]
     },
     "execution_count": 145,
     "metadata": {},
     "output_type": "execute_result"
    }
   ],
   "source": [
    "a.startswith(\"Hello\") #\"Hello\"로 시작하는지 뭍는것"
   ]
  },
  {
   "cell_type": "code",
   "execution_count": 146,
   "id": "804a6524-ad98-4d53-8293-6b927b79c0bd",
   "metadata": {},
   "outputs": [
    {
     "data": {
      "text/plain": [
       "True"
      ]
     },
     "execution_count": 146,
     "metadata": {},
     "output_type": "execute_result"
    }
   ],
   "source": [
    "a.endswith(\"d\")"
   ]
  },
  {
   "cell_type": "code",
   "execution_count": 148,
   "id": "83254b5c-dfcf-4e96-a72f-5f5acd772118",
   "metadata": {},
   "outputs": [
    {
     "data": {
      "text/plain": [
       "-1"
      ]
     },
     "execution_count": 148,
     "metadata": {},
     "output_type": "execute_result"
    }
   ],
   "source": [
    "#\"Hello World\" =>find는 해당 수가 처음 나타나는 부분만 인출(6번째에도 나오지만 4번째만 인출)\n",
    "a.find(\"z\")"
   ]
  },
  {
   "cell_type": "code",
   "execution_count": 156,
   "id": "e40fc490-8fba-4dc6-ae58-4136467a367f",
   "metadata": {},
   "outputs": [
    {
     "name": "stdout",
     "output_type": "stream",
     "text": [
      "pizza\n"
     ]
    }
   ],
   "source": [
    "f = open(\"2025.06.21/order.txt\",\"r\")\n",
    "data = f.readlines()\n",
    "print(data[1].split()[1])"
   ]
  },
  {
   "cell_type": "code",
   "execution_count": 159,
   "id": "40bc40f9-7e1e-441f-b14f-eea282ea2405",
   "metadata": {},
   "outputs": [
    {
     "name": "stdout",
     "output_type": "stream",
     "text": [
      "이름  점수\n",
      "짱구  65\n",
      "철수  95\n",
      "유리  80\n",
      "맹구  85\n",
      "훈이  70\n"
     ]
    }
   ],
   "source": [
    "f = open(\"2025.06.21/data.txt\",\"r\",encoding='utf-8')\n",
    "data = f.read()\n",
    "print(data)"
   ]
  },
  {
   "cell_type": "code",
   "execution_count": 163,
   "id": "ca3a0eee-b5b0-4b01-b5f7-ab454155f2e9",
   "metadata": {},
   "outputs": [
    {
     "name": "stdout",
     "output_type": "stream",
     "text": [
      "이름  점수\n",
      "짱구  65\n",
      "철수  95\n",
      "유리  80\n",
      "맹구  85\n",
      "훈이  70\n"
     ]
    }
   ],
   "source": [
    "f = open(\"2025.06.21/data.txt\",\"r\",encoding = 'utf-8')\n",
    "data = f.read()\n",
    "print(data)"
   ]
  },
  {
   "cell_type": "code",
   "execution_count": 184,
   "id": "cbeea94a-5833-4649-a28a-55c393e80eb5",
   "metadata": {},
   "outputs": [
    {
     "name": "stdout",
     "output_type": "stream",
     "text": [
      "65\n",
      "95\n",
      "80\n",
      "85\n",
      "70\n",
      "79.0\n",
      "평균은 79.0 입니다.\n"
     ]
    }
   ],
   "source": [
    "f = open(\"2025.06.21/data.txt\",\"r\",encoding = 'utf-8')\n",
    "data = f.readlines()\n",
    "#print(data)\n",
    "\n",
    "#평균 계산\n",
    "total = 0\n",
    "for line in data:\n",
    "    #line : \"이름 점수\\\"\n",
    "    #line.split() : [\"이름\",\"점수\\n\"]\n",
    "    #line.split()[1] : 점수\\n\n",
    "    score = line.split()[1]\n",
    "    if score ==\"점수\":\n",
    "        continue #건너뛴다\n",
    "    print(score)\n",
    "    total += int(score) #파일 그대로여서 문자였음\n",
    "    \n",
    "\n",
    "print(total / (len(data)-1)) #5로 나눠도 되지만 정확하지 않으므로 len 을 활용한다\n",
    "avg = total / (len(data)-1)\n",
    "print(\"평균은\",avg, \"입니다.\")"
   ]
  },
  {
   "cell_type": "code",
   "execution_count": 186,
   "id": "2ee10dd6-ad47-4f09-a29b-884e5ba71166",
   "metadata": {},
   "outputs": [],
   "source": [
    "import time #표준라이브러리 사용"
   ]
  },
  {
   "cell_type": "code",
   "execution_count": 216,
   "id": "53a0a805-bdc5-4318-908a-efd9c12489fa",
   "metadata": {},
   "outputs": [
    {
     "data": {
      "text/plain": [
       "1750484714.860742"
      ]
     },
     "execution_count": 216,
     "metadata": {},
     "output_type": "execute_result"
    }
   ],
   "source": [
    "#기준점 : 1970년 01.01년을 기준으로 몇 초가 지났는가를 제공\n",
    "time.time() #현재 시간을 제공"
   ]
  },
  {
   "cell_type": "code",
   "execution_count": 218,
   "id": "6e930728-fc69-4acd-871a-c4da6022e5d8",
   "metadata": {},
   "outputs": [],
   "source": [
    "import datetime"
   ]
  },
  {
   "cell_type": "code",
   "execution_count": 361,
   "id": "66e411ab-14e7-471f-bd64-6bf28a370e2c",
   "metadata": {},
   "outputs": [
    {
     "data": {
      "text/plain": [
       "datetime.datetime(2025, 6, 21, 14, 47, 35, 267406)"
      ]
     },
     "execution_count": 361,
     "metadata": {},
     "output_type": "execute_result"
    }
   ],
   "source": [
    "datetime.datetime.now()"
   ]
  },
  {
   "cell_type": "code",
   "execution_count": 362,
   "id": "d0483fdb-1d67-46b6-a3e3-5a72dc3311f0",
   "metadata": {},
   "outputs": [
    {
     "data": {
      "text/plain": [
       "'nt'"
      ]
     },
     "execution_count": 362,
     "metadata": {},
     "output_type": "execute_result"
    }
   ],
   "source": [
    "os.name"
   ]
  },
  {
   "cell_type": "code",
   "execution_count": 363,
   "id": "3a5eab41-3696-4709-be03-a0cf0d8ff3a8",
   "metadata": {},
   "outputs": [
    {
     "data": {
      "text/plain": [
       "'C:\\\\Users\\\\admin\\\\Desktop\\\\seoajang'"
      ]
     },
     "execution_count": 363,
     "metadata": {},
     "output_type": "execute_result"
    }
   ],
   "source": [
    "os.getcwd() #현재 경로 => 절대경로로 나타냄"
   ]
  },
  {
   "cell_type": "code",
   "execution_count": 374,
   "id": "62fd26a7-2297-4d40-9a46-c8e4c563c293",
   "metadata": {},
   "outputs": [
    {
     "data": {
      "text/plain": [
       "['.git',\n",
       " '.ipynb_checkpoints',\n",
       " '2025.06.21',\n",
       " 'anaconda',\n",
       " 'ARGV',\n",
       " 'go_to_home.ipynb',\n",
       " 'README.md',\n",
       " 'test.py',\n",
       " 'Untitled.ipynb',\n",
       " 'Untitled1.ipynb']"
      ]
     },
     "execution_count": 374,
     "metadata": {},
     "output_type": "execute_result"
    }
   ],
   "source": [
    "os.listdir() #괄호안에 아무것도 안쓰면 해당 위치의 파일과 폴더리스트"
   ]
  },
  {
   "cell_type": "code",
   "execution_count": 378,
   "id": "3018d91e-1c42-4f37-8b2c-054b3aac2e3d",
   "metadata": {},
   "outputs": [
    {
     "data": {
      "text/plain": [
       "['.git',\n",
       " '.ipynb_checkpoints',\n",
       " '2025.06.21',\n",
       " 'anaconda',\n",
       " 'ARGV',\n",
       " 'go_to_home.ipynb',\n",
       " 'README.md',\n",
       " 'test.py',\n",
       " 'Untitled.ipynb',\n",
       " 'Untitled1.ipynb']"
      ]
     },
     "execution_count": 378,
     "metadata": {},
     "output_type": "execute_result"
    }
   ],
   "source": [
    "os.listdir(\"2025.06.21\") #괄호안에 쓴 위치의 파일과 폴더리스트"
   ]
  },
  {
   "cell_type": "code",
   "execution_count": 367,
   "id": "6c7c8525-537a-4dd8-903d-f298b1088af9",
   "metadata": {},
   "outputs": [
    {
     "data": {
      "text/plain": [
       "['.ipynb_checkpoints',\n",
       " 'choices.xlsx',\n",
       " 'desktop.ini',\n",
       " 'questions.xlsx',\n",
       " 'seoajang',\n",
       " 'SpringToolSuite4.exe - 바로 가기.lnk',\n",
       " 'test.docx',\n",
       " 'XAMPP Control Panel.lnk',\n",
       " '기출문제포맷.zip',\n",
       " '사용자 이름 1 - Edge.lnk',\n",
       " '이미지 업로드 링크.txt']"
      ]
     },
     "execution_count": 367,
     "metadata": {},
     "output_type": "execute_result"
    }
   ],
   "source": [
    "os.listdir(\"../\") #?"
   ]
  },
  {
   "cell_type": "code",
   "execution_count": 377,
   "id": "7a9fe7eb-8d1b-40da-b9a4-47cdb0e08638",
   "metadata": {},
   "outputs": [
    {
     "ename": "FileNotFoundError",
     "evalue": "[WinError 2] 지정된 파일을 찾을 수 없습니다: 'text.txt'",
     "output_type": "error",
     "traceback": [
      "\u001b[31m---------------------------------------------------------------------------\u001b[39m",
      "\u001b[31mFileNotFoundError\u001b[39m                         Traceback (most recent call last)",
      "\u001b[36mCell\u001b[39m\u001b[36m \u001b[39m\u001b[32mIn[377]\u001b[39m\u001b[32m, line 1\u001b[39m\n\u001b[32m----> \u001b[39m\u001b[32m1\u001b[39m \u001b[43mos\u001b[49m\u001b[43m.\u001b[49m\u001b[43mremove\u001b[49m\u001b[43m(\u001b[49m\u001b[33;43m'\u001b[39;49m\u001b[33;43mtext.txt\u001b[39;49m\u001b[33;43m'\u001b[39;49m\u001b[43m)\u001b[49m\n",
      "\u001b[31mFileNotFoundError\u001b[39m: [WinError 2] 지정된 파일을 찾을 수 없습니다: 'text.txt'"
     ]
    }
   ],
   "source": [
    "os.remove('text.txt')"
   ]
  },
  {
   "cell_type": "code",
   "execution_count": 373,
   "id": "3f1637ea-e5dd-41e3-9356-38e62e51eebb",
   "metadata": {},
   "outputs": [
    {
     "data": {
      "text/plain": [
       "True"
      ]
     },
     "execution_count": 373,
     "metadata": {},
     "output_type": "execute_result"
    }
   ],
   "source": [
    "os.path.exists(\"2025.06.21\")"
   ]
  },
  {
   "cell_type": "code",
   "execution_count": 379,
   "id": "ef001658-baa1-4dec-be62-10a61a756c3c",
   "metadata": {},
   "outputs": [
    {
     "data": {
      "text/plain": [
       "0"
      ]
     },
     "execution_count": 379,
     "metadata": {},
     "output_type": "execute_result"
    }
   ],
   "source": [
    "os.system(\"echo Hello\")"
   ]
  },
  {
   "cell_type": "code",
   "execution_count": 381,
   "id": "63f23522-3af7-4bfd-a067-4c6c0f6dd232",
   "metadata": {},
   "outputs": [
    {
     "data": {
      "text/plain": [
       "'win32'"
      ]
     },
     "execution_count": 381,
     "metadata": {},
     "output_type": "execute_result"
    }
   ],
   "source": [
    "import sys\n",
    "sys.platform"
   ]
  },
  {
   "cell_type": "code",
   "execution_count": 385,
   "id": "e1d96ca6-88cb-4ff7-9e48-e46c678973c2",
   "metadata": {},
   "outputs": [
    {
     "name": "stdout",
     "output_type": "stream",
     "text": [
      "C:\\Users\\admin\\Desktop\\seoajang\n"
     ]
    },
    {
     "data": {
      "text/plain": [
       "['C:/Users/admin/Desktop/seoajang/']"
      ]
     },
     "execution_count": 385,
     "metadata": {},
     "output_type": "execute_result"
    }
   ],
   "source": [
    "import glob\n",
    "a = os.getcwd()\n",
    "print(a)\n",
    "glob.glob(\"C:/Users/admin/Desktop/seoajang/\")"
   ]
  },
  {
   "cell_type": "code",
   "execution_count": 390,
   "id": "cf43df7c-8c00-40d5-8615-a37419318f31",
   "metadata": {},
   "outputs": [],
   "source": [
    "import numpy as np"
   ]
  },
  {
   "cell_type": "code",
   "execution_count": 394,
   "id": "02bae538-9095-4680-9665-13afd414d7ea",
   "metadata": {},
   "outputs": [],
   "source": [
    "#1차원 배열\n",
    "a1 = np.array([1,2,3])\n",
    "\n",
    "#3차원 배열\n",
    "a2 = np.array([[1,2,3],[4,5,6]])\n",
    "\n",
    "#3차원 배열\n",
    "a3 = np.array([[[1,2],[3,4]],[[5,6],[7,8]]])\n"
   ]
  },
  {
   "cell_type": "code",
   "execution_count": 396,
   "id": "abbaad95-47c1-4173-bc46-7973df7d5886",
   "metadata": {},
   "outputs": [
    {
     "name": "stdout",
     "output_type": "stream",
     "text": [
      "[1 2 3]\n",
      "[[1 2 3]\n",
      " [4 5 6]]\n",
      "[[[1 2]\n",
      "  [3 4]]\n",
      "\n",
      " [[5 6]\n",
      "  [7 8]]]\n"
     ]
    }
   ],
   "source": [
    "print(a1)\n",
    "print(a2)\n",
    "print(a3)"
   ]
  },
  {
   "cell_type": "code",
   "execution_count": 397,
   "id": "d6b966e3-107e-4c46-9db4-8bd8523379e3",
   "metadata": {},
   "outputs": [
    {
     "data": {
      "text/plain": [
       "(3,)"
      ]
     },
     "execution_count": 397,
     "metadata": {},
     "output_type": "execute_result"
    }
   ],
   "source": [
    "a1.shape"
   ]
  },
  {
   "cell_type": "code",
   "execution_count": 400,
   "id": "2f709620-a1c1-4661-b157-0e2f875912d5",
   "metadata": {},
   "outputs": [
    {
     "data": {
      "text/plain": [
       "(2, 3)"
      ]
     },
     "execution_count": 400,
     "metadata": {},
     "output_type": "execute_result"
    }
   ],
   "source": [
    "a2.shape"
   ]
  },
  {
   "cell_type": "code",
   "execution_count": 404,
   "id": "29a6d014-0960-418d-84d2-96836025193f",
   "metadata": {},
   "outputs": [],
   "source": [
    "a = np.array([1,2,3])\n",
    "b = np.array([4,5,6])"
   ]
  },
  {
   "cell_type": "code",
   "execution_count": 405,
   "id": "697c42db-1435-4520-a2f8-50f1a35a0dfc",
   "metadata": {},
   "outputs": [
    {
     "data": {
      "text/plain": [
       "array([5, 7, 9])"
      ]
     },
     "execution_count": 405,
     "metadata": {},
     "output_type": "execute_result"
    }
   ],
   "source": [
    "a+b"
   ]
  },
  {
   "cell_type": "code",
   "execution_count": 406,
   "id": "f36151fd-d3c6-4592-8f54-c64a93f1a26b",
   "metadata": {},
   "outputs": [
    {
     "data": {
      "text/plain": [
       "array([ 4, 10, 18])"
      ]
     },
     "execution_count": 406,
     "metadata": {},
     "output_type": "execute_result"
    }
   ],
   "source": [
    "a*b"
   ]
  },
  {
   "cell_type": "code",
   "execution_count": 407,
   "id": "3dd6ca69-02ac-4f23-831a-8953648a3033",
   "metadata": {},
   "outputs": [],
   "source": [
    "a = np.array([[1,2],[3,4]])\n",
    "b = np.array([[1,2],[3,4]])"
   ]
  },
  {
   "cell_type": "code",
   "execution_count": 408,
   "id": "5de744e9-9150-49d7-ac09-1151f2fbfe4c",
   "metadata": {},
   "outputs": [
    {
     "data": {
      "text/plain": [
       "array([[2, 4],\n",
       "       [6, 8]])"
      ]
     },
     "execution_count": 408,
     "metadata": {},
     "output_type": "execute_result"
    }
   ],
   "source": [
    "a+b"
   ]
  },
  {
   "cell_type": "code",
   "execution_count": 409,
   "id": "c6328d25-3656-44a6-9d42-676cea9283d6",
   "metadata": {},
   "outputs": [
    {
     "data": {
      "text/plain": [
       "array([[ 1,  4],\n",
       "       [ 9, 16]])"
      ]
     },
     "execution_count": 409,
     "metadata": {},
     "output_type": "execute_result"
    }
   ],
   "source": [
    "a*b"
   ]
  },
  {
   "cell_type": "code",
   "execution_count": null,
   "id": "e133a512-b562-4762-8121-8766c93fb3d7",
   "metadata": {},
   "outputs": [],
   "source": []
  },
  {
   "cell_type": "code",
   "execution_count": 410,
   "id": "1c061129-3096-41ea-a0f5-b1450df0e10f",
   "metadata": {},
   "outputs": [
    {
     "data": {
      "text/plain": [
       "array([[0, 0],\n",
       "       [0, 0]])"
      ]
     },
     "execution_count": 410,
     "metadata": {},
     "output_type": "execute_result"
    }
   ],
   "source": [
    "a-b"
   ]
  },
  {
   "cell_type": "code",
   "execution_count": 422,
   "id": "bd14f28e-321c-4b0f-bc1d-839b2b33444c",
   "metadata": {},
   "outputs": [],
   "source": [
    "a = np.array([1,2,3])"
   ]
  },
  {
   "cell_type": "code",
   "execution_count": 423,
   "id": "37d1f448-70f3-48f3-a6d8-92bccda21886",
   "metadata": {},
   "outputs": [
    {
     "data": {
      "text/plain": [
       "array([1, 2, 3])"
      ]
     },
     "execution_count": 423,
     "metadata": {},
     "output_type": "execute_result"
    }
   ],
   "source": [
    "a"
   ]
  },
  {
   "cell_type": "code",
   "execution_count": 426,
   "id": "ebf5220d-8189-4b41-80ad-c80d2580440a",
   "metadata": {},
   "outputs": [
    {
     "name": "stdout",
     "output_type": "stream",
     "text": [
      "3\n"
     ]
    }
   ],
   "source": [
    "b = np.max(a)\n",
    "print(b)"
   ]
  },
  {
   "cell_type": "code",
   "execution_count": 427,
   "id": "264763da-0124-4d07-8599-002c2a144f09",
   "metadata": {},
   "outputs": [
    {
     "name": "stdout",
     "output_type": "stream",
     "text": [
      "1\n"
     ]
    }
   ],
   "source": [
    "b = np.min(a)\n",
    "print(b)"
   ]
  },
  {
   "cell_type": "code",
   "execution_count": 430,
   "id": "bd279286-b6ec-4b83-bf76-cc66b144c524",
   "metadata": {},
   "outputs": [
    {
     "name": "stdout",
     "output_type": "stream",
     "text": [
      "2.0\n"
     ]
    }
   ],
   "source": [
    "np.median(a)\n",
    "b = np.median(a)\n",
    "print(b)"
   ]
  },
  {
   "cell_type": "code",
   "execution_count": 431,
   "id": "6b698585-41df-4517-ab50-68115580bc4a",
   "metadata": {},
   "outputs": [],
   "source": [
    "a = np.array([[1,2,3],[4,5,6]])"
   ]
  },
  {
   "cell_type": "code",
   "execution_count": 432,
   "id": "0d049d3e-2c0a-4e06-bdaa-4c05f4d4fdca",
   "metadata": {},
   "outputs": [
    {
     "data": {
      "text/plain": [
       "array([2., 5.])"
      ]
     },
     "execution_count": 432,
     "metadata": {},
     "output_type": "execute_result"
    }
   ],
   "source": [
    "np.mean(a,axis=1) #행을 기준으로함(가로)"
   ]
  },
  {
   "cell_type": "code",
   "execution_count": 434,
   "id": "4fd61996-351e-4733-a3e9-a3e33ce2f367",
   "metadata": {},
   "outputs": [
    {
     "data": {
      "text/plain": [
       "array([2.5, 3.5, 4.5])"
      ]
     },
     "execution_count": 434,
     "metadata": {},
     "output_type": "execute_result"
    }
   ],
   "source": [
    "np.mean(a,axis=0) #열을 기준으로함(세로)"
   ]
  },
  {
   "cell_type": "code",
   "execution_count": 435,
   "id": "c6b34b08-2096-4d0a-8f06-aaa129704372",
   "metadata": {},
   "outputs": [],
   "source": [
    "a = np.array([1,2,3,4,5])"
   ]
  },
  {
   "cell_type": "code",
   "execution_count": 439,
   "id": "80b215d5-0ae4-41ba-b92f-ad470869593e",
   "metadata": {},
   "outputs": [
    {
     "name": "stdout",
     "output_type": "stream",
     "text": [
      "1\n"
     ]
    }
   ],
   "source": [
    "b = a[0]\n",
    "print(b)"
   ]
  },
  {
   "cell_type": "code",
   "execution_count": 442,
   "id": "794c95e1-c0d9-49a9-af4d-c5dbdf10fec6",
   "metadata": {},
   "outputs": [],
   "source": [
    "a = np.array([[1,2,3],[4,5,6]])"
   ]
  },
  {
   "cell_type": "code",
   "execution_count": 443,
   "id": "7deb8df5-fdc1-4ec1-86a4-22e71a88f068",
   "metadata": {},
   "outputs": [
    {
     "name": "stdout",
     "output_type": "stream",
     "text": [
      "[1 2 3]\n"
     ]
    }
   ],
   "source": [
    "b = a[0]\n",
    "print(b)"
   ]
  },
  {
   "cell_type": "code",
   "execution_count": 444,
   "id": "1c84c9c1-0e07-4792-970c-17bd141fea88",
   "metadata": {},
   "outputs": [
    {
     "name": "stdout",
     "output_type": "stream",
     "text": [
      "1\n"
     ]
    }
   ],
   "source": [
    "b = a[0][0]\n",
    "print(b)"
   ]
  },
  {
   "cell_type": "code",
   "execution_count": 445,
   "id": "403f4967-ac5c-4150-9668-26ac8c6bd1aa",
   "metadata": {},
   "outputs": [
    {
     "name": "stdout",
     "output_type": "stream",
     "text": [
      "5\n"
     ]
    }
   ],
   "source": [
    "b = a[1][1]\n",
    "print(b)"
   ]
  },
  {
   "cell_type": "code",
   "execution_count": 449,
   "id": "b391afdd-6134-4acd-acce-35d17a14501b",
   "metadata": {},
   "outputs": [
    {
     "name": "stdout",
     "output_type": "stream",
     "text": [
      "[[1 2]\n",
      " [3 4]\n",
      " [5 6]]\n"
     ]
    }
   ],
   "source": [
    "a = np.array([[1,2],[3,4],[5,6]])\n",
    "print(a)"
   ]
  },
  {
   "cell_type": "code",
   "execution_count": 450,
   "id": "a9de197c-aed5-4661-81d6-aac544186c0e",
   "metadata": {},
   "outputs": [
    {
     "data": {
      "text/plain": [
       "array([[1, 2, 3],\n",
       "       [4, 5, 6]])"
      ]
     },
     "execution_count": 450,
     "metadata": {},
     "output_type": "execute_result"
    }
   ],
   "source": [
    "a.reshape((2,3))"
   ]
  },
  {
   "cell_type": "code",
   "execution_count": 451,
   "id": "fc7e6c9f-6279-4284-8d0a-ea039ed0459b",
   "metadata": {},
   "outputs": [
    {
     "data": {
      "text/plain": [
       "array([[1, 3, 5],\n",
       "       [2, 4, 6]])"
      ]
     },
     "execution_count": 451,
     "metadata": {},
     "output_type": "execute_result"
    }
   ],
   "source": [
    "a.T"
   ]
  },
  {
   "cell_type": "code",
   "execution_count": 452,
   "id": "44549d61-9095-42e8-8cf3-74723a41255c",
   "metadata": {},
   "outputs": [],
   "source": [
    "a = np.array([1,2,3]) #3개도 가능\n",
    "b = np.array([4,5,6])"
   ]
  },
  {
   "cell_type": "code",
   "execution_count": 453,
   "id": "b527231e-f630-40b4-8a9d-9f41dab20a9e",
   "metadata": {},
   "outputs": [
    {
     "data": {
      "text/plain": [
       "array([1, 2, 3, 4, 5, 6])"
      ]
     },
     "execution_count": 453,
     "metadata": {},
     "output_type": "execute_result"
    }
   ],
   "source": [
    "np.concatenate((a,b)) #단순 병합"
   ]
  },
  {
   "cell_type": "code",
   "execution_count": 454,
   "id": "a600efca-efe9-4f37-aab3-513bc325b770",
   "metadata": {},
   "outputs": [
    {
     "data": {
      "text/plain": [
       "array([1, 2, 3, 4, 5, 6])"
      ]
     },
     "execution_count": 454,
     "metadata": {},
     "output_type": "execute_result"
    }
   ],
   "source": [
    "np.concatenate((a,b),axis=0) #위의 단수병합과 똑같이 병합/각각의 데이터이기 때문에 숫자가 겹쳐도 괜찮다"
   ]
  },
  {
   "cell_type": "code",
   "execution_count": 455,
   "id": "725659e2-e218-4358-a2d8-e9493ee59baf",
   "metadata": {
    "scrolled": true
   },
   "outputs": [
    {
     "ename": "AxisError",
     "evalue": "axis 1 is out of bounds for array of dimension 1",
     "output_type": "error",
     "traceback": [
      "\u001b[31m---------------------------------------------------------------------------\u001b[39m",
      "\u001b[31mAxisError\u001b[39m                                 Traceback (most recent call last)",
      "\u001b[36mCell\u001b[39m\u001b[36m \u001b[39m\u001b[32mIn[455]\u001b[39m\u001b[32m, line 1\u001b[39m\n\u001b[32m----> \u001b[39m\u001b[32m1\u001b[39m \u001b[43mnp\u001b[49m\u001b[43m.\u001b[49m\u001b[43mconcatenate\u001b[49m\u001b[43m(\u001b[49m\u001b[43m(\u001b[49m\u001b[43ma\u001b[49m\u001b[43m,\u001b[49m\u001b[43mb\u001b[49m\u001b[43m)\u001b[49m\u001b[43m,\u001b[49m\u001b[43maxis\u001b[49m\u001b[43m=\u001b[49m\u001b[32;43m1\u001b[39;49m\u001b[43m)\u001b[49m\n",
      "\u001b[31mAxisError\u001b[39m: axis 1 is out of bounds for array of dimension 1"
     ]
    }
   ],
   "source": [
    "np.concatenate((a,b),axis=1)"
   ]
  },
  {
   "cell_type": "code",
   "execution_count": 456,
   "id": "25226e49-bcc4-41f8-9b39-88158df17124",
   "metadata": {},
   "outputs": [],
   "source": [
    "a = np.array([[1,2],[3,4]])\n",
    "b = np.array([[5,6]])"
   ]
  },
  {
   "cell_type": "code",
   "execution_count": 457,
   "id": "77d4f8e4-2453-4cc9-9e6a-0fc4ee7deb8e",
   "metadata": {},
   "outputs": [
    {
     "data": {
      "text/plain": [
       "array([[1, 2],\n",
       "       [3, 4],\n",
       "       [5, 6]])"
      ]
     },
     "execution_count": 457,
     "metadata": {},
     "output_type": "execute_result"
    }
   ],
   "source": [
    "np.concatenate((a,b),axis=0)"
   ]
  },
  {
   "cell_type": "code",
   "execution_count": null,
   "id": "8edc591e-58a0-4d94-bc62-72f64d1228d2",
   "metadata": {},
   "outputs": [],
   "source": []
  },
  {
   "cell_type": "code",
   "execution_count": null,
   "id": "5126ebe3-ae86-4dbd-a380-72ff066f5423",
   "metadata": {},
   "outputs": [],
   "source": []
  },
  {
   "cell_type": "code",
   "execution_count": null,
   "id": "515c30b8-1a0d-4f44-9871-52aa1698c713",
   "metadata": {},
   "outputs": [],
   "source": []
  },
  {
   "cell_type": "code",
   "execution_count": null,
   "id": "486db883-4784-4685-9a40-59cf3f6a9105",
   "metadata": {},
   "outputs": [],
   "source": []
  },
  {
   "cell_type": "code",
   "execution_count": null,
   "id": "4a6c1f54-dcd8-4e76-9eb0-4a033e370e3d",
   "metadata": {},
   "outputs": [],
   "source": []
  },
  {
   "cell_type": "code",
   "execution_count": null,
   "id": "b2b40250-63c9-4441-a392-dab7dc23aa2f",
   "metadata": {},
   "outputs": [],
   "source": []
  },
  {
   "cell_type": "code",
   "execution_count": null,
   "id": "3d1e7a74-1ec4-4688-b161-53777b92bb32",
   "metadata": {},
   "outputs": [],
   "source": []
  }
 ],
 "metadata": {
  "kernelspec": {
   "display_name": "Python 3 (ipykernel)",
   "language": "python",
   "name": "python3"
  },
  "language_info": {
   "codemirror_mode": {
    "name": "ipython",
    "version": 3
   },
   "file_extension": ".py",
   "mimetype": "text/x-python",
   "name": "python",
   "nbconvert_exporter": "python",
   "pygments_lexer": "ipython3",
   "version": "3.13.5"
  }
 },
 "nbformat": 4,
 "nbformat_minor": 5
}
