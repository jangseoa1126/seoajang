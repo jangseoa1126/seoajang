{
 "cells": [
  {
   "cell_type": "code",
   "execution_count": 3,
   "id": "52b75334-6acc-4127-99ad-12fc62077ffd",
   "metadata": {},
   "outputs": [
    {
     "name": "stdout",
     "output_type": "stream",
     "text": [
      "Hello World\n"
     ]
    }
   ],
   "source": [
    "print(\"Hello World\")"
   ]
  },
  {
   "cell_type": "code",
   "execution_count": 2,
   "id": "256ff9b6-214c-44cc-b631-b68e5c187463",
   "metadata": {},
   "outputs": [
    {
     "name": "stdout",
     "output_type": "stream",
     "text": [
      "stone\n"
     ]
    }
   ],
   "source": [
    "print(\"stone\")"
   ]
  },
  {
   "cell_type": "code",
   "execution_count": 5,
   "id": "82f85dc6-12ed-4281-8510-d89c85cdbbc7",
   "metadata": {},
   "outputs": [
    {
     "name": "stdout",
     "output_type": "stream",
     "text": [
      "1\n",
      "10\n"
     ]
    }
   ],
   "source": [
    "a = 1 \n",
    "print(a)\n",
    "a = 10\n",
    "print(a)"
   ]
  },
  {
   "cell_type": "code",
   "execution_count": 7,
   "id": "1e5206b6-c183-4e83-97f3-b52ccda73835",
   "metadata": {},
   "outputs": [
    {
     "name": "stdout",
     "output_type": "stream",
     "text": [
      "2 1\n"
     ]
    }
   ],
   "source": [
    "a = 1 # a = 1, b = none\n",
    "b = a # a = 1, b = 1\n",
    "a = 2 # a = 2, b= = 1\n",
    "print(a,b)"
   ]
  },
  {
   "cell_type": "code",
   "execution_count": 39,
   "id": "f63dc66c-4417-441c-bda9-5282a253523e",
   "metadata": {},
   "outputs": [
    {
     "data": {
      "text/plain": [
       "NoneType"
      ]
     },
     "execution_count": 39,
     "metadata": {},
     "output_type": "execute_result"
    }
   ],
   "source": [
    "a = 1 #int\n",
    "b = 1,2 #tuple\n",
    "c = \"Jangseoa\" #str\n",
    "d = True # bool\n",
    "e = None #nonetype\n",
    "\n",
    "type(e)"
   ]
  },
  {
   "cell_type": "code",
   "execution_count": 13,
   "id": "6fb1506e-31e7-41b7-9f49-19b3bf9e9e8a",
   "metadata": {},
   "outputs": [
    {
     "data": {
      "text/plain": [
       "int"
      ]
     },
     "execution_count": 13,
     "metadata": {},
     "output_type": "execute_result"
    }
   ],
   "source": [
    "type(a)"
   ]
  },
  {
   "cell_type": "code",
   "execution_count": 29,
   "id": "ae7d1ee6-d20d-4223-9921-c72c8be8a5c7",
   "metadata": {},
   "outputs": [],
   "source": [
    "a = 1\n",
    "b = \"1\"\n",
    "\n",
    "c = str(a)\n",
    "d = int(b)"
   ]
  },
  {
   "cell_type": "code",
   "execution_count": 33,
   "id": "b808b408-174e-4b7a-bf5f-48decbdab0ea",
   "metadata": {},
   "outputs": [
    {
     "data": {
      "text/plain": [
       "int"
      ]
     },
     "execution_count": 33,
     "metadata": {},
     "output_type": "execute_result"
    }
   ],
   "source": [
    "type(d)"
   ]
  },
  {
   "cell_type": "code",
   "execution_count": 40,
   "id": "ee343164-31c5-420f-b6c4-405efd6ab6a5",
   "metadata": {
    "collapsed": true,
    "jupyter": {
     "outputs_hidden": true
    }
   },
   "outputs": [
    {
     "name": "stdout",
     "output_type": "stream",
     "text": [
      "[1, 2, 3, 4, 5]\n"
     ]
    }
   ],
   "source": [
    "a = [1,2,3,4,5] # 서로 다른 타입 넣을 수 있음 / 리스트 안에 또 다른 리스트 넣을 수 있음\n",
    "print(a)"
   ]
  },
  {
   "cell_type": "code",
   "execution_count": 61,
   "id": "4de4246d-39d6-4c4c-a8d2-56bb088b171f",
   "metadata": {},
   "outputs": [
    {
     "name": "stdout",
     "output_type": "stream",
     "text": [
      "[1, '짱구']\n"
     ]
    }
   ],
   "source": [
    "students = [[1,\"짱구\"], [2,\"철수\"],[3,\"맹구\"],[4,\"유리\"],[5,\"훈이\"]]\n",
    "\n",
    "print(students[0]) #인덱스 - 리스트에 활용한 대괄호 활용하여 구하고싶은 번호 넣기 (()안에) but 인덱스는 0부터 시작한다 ( ex 짱구를 나오게하려면 0 입력)"
   ]
  },
  {
   "cell_type": "code",
   "execution_count": 62,
   "id": "78bc79ec-b4a6-4edc-8d51-e81081cebf28",
   "metadata": {},
   "outputs": [
    {
     "name": "stdout",
     "output_type": "stream",
     "text": [
      "4\n"
     ]
    }
   ],
   "source": [
    "print(students[3][0]) # 인덱스는 복합적으로 사용할 수 있다 / 마이너스 사용시 뒤에서부터 (ex -1 입력시 훈이 출력)"
   ]
  },
  {
   "cell_type": "code",
   "execution_count": 63,
   "id": "22e15c5c-136f-4002-b071-84473d5cdf4d",
   "metadata": {},
   "outputs": [],
   "source": [
    "students[4][1] = \"수지\""
   ]
  },
  {
   "cell_type": "code",
   "execution_count": 64,
   "id": "8ca6621f-0bd9-4ddc-8870-563b39b27217",
   "metadata": {},
   "outputs": [
    {
     "name": "stdout",
     "output_type": "stream",
     "text": [
      "[[1, '짱구'], [2, '철수'], [3, '맹구'], [4, '유리'], [5, '수지']]\n"
     ]
    }
   ],
   "source": [
    "print(students)"
   ]
  },
  {
   "cell_type": "code",
   "execution_count": 65,
   "id": "3951bec1-1b3b-47dd-9ede-db273d7753e1",
   "metadata": {},
   "outputs": [],
   "source": [
    "students[2][1] = \"광식\""
   ]
  },
  {
   "cell_type": "code",
   "execution_count": 66,
   "id": "f5197a08-564c-4f41-a6fd-1b743c80610c",
   "metadata": {},
   "outputs": [
    {
     "name": "stdout",
     "output_type": "stream",
     "text": [
      "[[1, '짱구'], [2, '철수'], [3, '광식'], [4, '유리'], [5, '수지']]\n"
     ]
    }
   ],
   "source": [
    "print(students)"
   ]
  },
  {
   "cell_type": "code",
   "execution_count": 68,
   "id": "b846d63b-e11a-437a-a230-4b26a0375cc5",
   "metadata": {},
   "outputs": [
    {
     "name": "stdout",
     "output_type": "stream",
     "text": [
      "[[3, '광식'], [4, '유리']]\n"
     ]
    }
   ],
   "source": [
    "print(students[2:4]) # 맨 뒤 번호의 데이터는 출력되지 않는다"
   ]
  },
  {
   "cell_type": "code",
   "execution_count": 77,
   "id": "c3d1049a-3f16-481f-9365-4befe340c6a1",
   "metadata": {},
   "outputs": [
    {
     "data": {
      "text/plain": [
       "5"
      ]
     },
     "execution_count": 77,
     "metadata": {},
     "output_type": "execute_result"
    }
   ],
   "source": [
    "a = [1,2,3,4,5]\n",
    "min(a)\n",
    "sum(a)\n",
    "max(a)\n",
    "len(a) # a의 길이 알려줌"
   ]
  },
  {
   "cell_type": "code",
   "execution_count": 80,
   "id": "c8660c79-381c-4ea2-928e-e11dad1b4639",
   "metadata": {},
   "outputs": [
    {
     "data": {
      "text/plain": [
       "[1, 2, 3, 4, 5, 6, 7]"
      ]
     },
     "execution_count": 80,
     "metadata": {},
     "output_type": "execute_result"
    }
   ],
   "source": [
    "b = a + [6,7]\n",
    "b"
   ]
  },
  {
   "cell_type": "code",
   "execution_count": 82,
   "id": "f2dd3441-1a17-4bdb-aa55-20d035974108",
   "metadata": {},
   "outputs": [
    {
     "data": {
      "text/plain": [
       "3.0"
      ]
     },
     "execution_count": 82,
     "metadata": {},
     "output_type": "execute_result"
    }
   ],
   "source": [
    "avg = sum(a) / len(a) #평균은 합계를 개수로 나눈 것\n",
    "avg"
   ]
  },
  {
   "cell_type": "code",
   "execution_count": 84,
   "id": "f9799b61-71e5-4ffc-a017-d56a547aa5f7",
   "metadata": {},
   "outputs": [
    {
     "data": {
      "text/plain": [
       "3.0"
      ]
     },
     "execution_count": 84,
     "metadata": {},
     "output_type": "execute_result"
    }
   ],
   "source": [
    "import numpy # numpy라는 라이브러리를 쓸것이라고 지정\n",
    "numpy.mean(a) # numpy라이브러리 - a의 평균"
   ]
  },
  {
   "cell_type": "code",
   "execution_count": 96,
   "id": "9e71faf3-8f2d-4345-87dc-9fe611fd51ec",
   "metadata": {},
   "outputs": [
    {
     "data": {
      "text/plain": [
       "[1, 2, 3, 5]"
      ]
     },
     "execution_count": 96,
     "metadata": {},
     "output_type": "execute_result"
    }
   ],
   "source": [
    "del a[3]\n",
    "a"
   ]
  },
  {
   "cell_type": "code",
   "execution_count": 97,
   "id": "cb71a9c6-6304-4864-b5e4-9b5678ed8d40",
   "metadata": {},
   "outputs": [
    {
     "data": {
      "text/plain": [
       "1"
      ]
     },
     "execution_count": 97,
     "metadata": {},
     "output_type": "execute_result"
    }
   ],
   "source": [
    "a.pop(0)"
   ]
  },
  {
   "cell_type": "code",
   "execution_count": 103,
   "id": "75b5f72d-0159-4131-a2a3-8d938adcf37e",
   "metadata": {},
   "outputs": [
    {
     "data": {
      "text/plain": [
       "[2, 3, 4, 5]"
      ]
     },
     "execution_count": 103,
     "metadata": {},
     "output_type": "execute_result"
    }
   ],
   "source": [
    "b = a.pop(0) # pop은 삭제한 값을 반환하는 특징이 있다 deleted_value\n",
    "a"
   ]
  },
  {
   "cell_type": "code",
   "execution_count": 102,
   "id": "0ce79c3a-f5fd-4c12-82fd-d183d70f8f3d",
   "metadata": {},
   "outputs": [
    {
     "data": {
      "text/plain": [
       "[1, 2, 3, 4, 5]"
      ]
     },
     "execution_count": 102,
     "metadata": {},
     "output_type": "execute_result"
    }
   ],
   "source": [
    "a = [1,2,3,4,5]\n",
    "a"
   ]
  },
  {
   "cell_type": "code",
   "execution_count": 104,
   "id": "67b79612-4aba-46d0-8ff1-60a5cf82012c",
   "metadata": {},
   "outputs": [
    {
     "data": {
      "text/plain": [
       "1"
      ]
     },
     "execution_count": 104,
     "metadata": {},
     "output_type": "execute_result"
    }
   ],
   "source": [
    "b"
   ]
  },
  {
   "cell_type": "code",
   "execution_count": 105,
   "id": "146c2de2-164b-41db-b02c-352194cdbdab",
   "metadata": {},
   "outputs": [],
   "source": [
    "a = [2,3,5,6]"
   ]
  },
  {
   "cell_type": "code",
   "execution_count": 109,
   "id": "5c621ff2-2378-49ca-8f0a-15c818531555",
   "metadata": {},
   "outputs": [
    {
     "data": {
      "text/plain": [
       "[7, 7, 7, 7, 2, 3, 5, 6]"
      ]
     },
     "execution_count": 109,
     "metadata": {},
     "output_type": "execute_result"
    }
   ],
   "source": [
    "a.insert(0,7) #0의 자리에 7 넣음 <>\n",
    "a"
   ]
  },
  {
   "cell_type": "code",
   "execution_count": 112,
   "id": "1d0215f6-a9fd-440d-8bc3-a06b72aaa71b",
   "metadata": {},
   "outputs": [
    {
     "data": {
      "text/plain": [
       "[7, 2, 3, 5, 6]"
      ]
     },
     "execution_count": 112,
     "metadata": {},
     "output_type": "execute_result"
    }
   ],
   "source": [
    "a.pop(0)\n",
    "a"
   ]
  },
  {
   "cell_type": "code",
   "execution_count": 113,
   "id": "42825d84-841b-41df-b4d7-a6cc7761029e",
   "metadata": {},
   "outputs": [
    {
     "data": {
      "text/plain": [
       "[]"
      ]
     },
     "execution_count": 113,
     "metadata": {},
     "output_type": "execute_result"
    }
   ],
   "source": [
    "a.clear() #초기화\n",
    "a"
   ]
  },
  {
   "cell_type": "code",
   "execution_count": 122,
   "id": "e8a17cb3-b8e5-4ed2-a423-c28be1f2795e",
   "metadata": {},
   "outputs": [],
   "source": [
    "a = [1,2,3,4,5]"
   ]
  },
  {
   "cell_type": "code",
   "execution_count": 123,
   "id": "0370f2dd-359a-4f8c-b19b-f20728d67506",
   "metadata": {},
   "outputs": [
    {
     "data": {
      "text/plain": [
       "[1, 2, 4, 5]"
      ]
     },
     "execution_count": 123,
     "metadata": {},
     "output_type": "execute_result"
    }
   ],
   "source": [
    "a.remove(3) #3를 지운다(리스트 아님)\n",
    "a"
   ]
  },
  {
   "cell_type": "code",
   "execution_count": 124,
   "id": "962cbc8a-b79b-44eb-a92e-319267309409",
   "metadata": {},
   "outputs": [
    {
     "data": {
      "text/plain": [
       "[1, 2, 3, 4, 5]"
      ]
     },
     "execution_count": 124,
     "metadata": {},
     "output_type": "execute_result"
    }
   ],
   "source": [
    "a.insert(2,3) #2번 자리에 3을 넣음 (0부터 세아린다)\n",
    "a #리스트는 수정가능 but 튜플은 수정 불가능 / 세트는 리스트와 같지만 중복 요소를 허용하지 않는다"
   ]
  },
  {
   "cell_type": "code",
   "execution_count": 126,
   "id": "24896187-45e1-4d8e-8520-01c51c16524c",
   "metadata": {},
   "outputs": [
    {
     "data": {
      "text/plain": [
       "{1, 2, 3, 4, 5}"
      ]
     },
     "execution_count": 126,
     "metadata": {},
     "output_type": "execute_result"
    }
   ],
   "source": [
    "a = {1,2,3,4,5,5,4} #세트는 중복 데이터가 제거되어 나옴 / 중괄호 사용\n",
    "a"
   ]
  },
  {
   "cell_type": "code",
   "execution_count": 136,
   "id": "1904c1f8-8329-4e83-85f5-ca9370e50f61",
   "metadata": {},
   "outputs": [],
   "source": [
    "student = {\\\n",
    "    \"id\" : [1,2,3],\\\n",
    "    \"name\" : [\"짱구\",\"철수\",\"유리\"],\\\n",
    "    \"favorite\" : [\"액션가면\",\"모에피\",\"토끼\"],\\ #딕셔너리 / 띄어쓰기는 \\로 표시\n",
    "}"
   ]
  },
  {
   "cell_type": "code",
   "execution_count": null,
   "id": "a8139f94-5262-426e-8a9c-0a8c885db782",
   "metadata": {},
   "outputs": [],
   "source": [
    "pr"
   ]
  },
  {
   "cell_type": "code",
   "execution_count": 137,
   "id": "37de5876-5633-45c7-bb74-4c0be0f0a7d9",
   "metadata": {},
   "outputs": [
    {
     "data": {
      "text/plain": [
       "2"
      ]
     },
     "execution_count": 137,
     "metadata": {},
     "output_type": "execute_result"
    }
   ],
   "source": [
    "student[\"id\"][1]"
   ]
  },
  {
   "cell_type": "code",
   "execution_count": 140,
   "id": "6a42205e-aae6-4d13-8cf3-79684c6c1b7e",
   "metadata": {},
   "outputs": [
    {
     "ename": "AttributeError",
     "evalue": "'list' object has no attribute 'keys'",
     "output_type": "error",
     "traceback": [
      "\u001b[1;31m---------------------------------------------------------------------------\u001b[0m",
      "\u001b[1;31mAttributeError\u001b[0m                            Traceback (most recent call last)",
      "Cell \u001b[1;32mIn[140], line 1\u001b[0m\n\u001b[1;32m----> 1\u001b[0m students\u001b[38;5;241m.\u001b[39mkeys()\n",
      "\u001b[1;31mAttributeError\u001b[0m: 'list' object has no attribute 'keys'"
     ]
    }
   ],
   "source": [
    "students.keys()"
   ]
  },
  {
   "cell_type": "code",
   "execution_count": 138,
   "id": "482802af-1964-4b09-99be-aa0b8693c035",
   "metadata": {},
   "outputs": [
    {
     "ename": "AttributeError",
     "evalue": "'list' object has no attribute 'keys'",
     "output_type": "error",
     "traceback": [
      "\u001b[1;31m---------------------------------------------------------------------------\u001b[0m",
      "\u001b[1;31mAttributeError\u001b[0m                            Traceback (most recent call last)",
      "Cell \u001b[1;32mIn[138], line 1\u001b[0m\n\u001b[1;32m----> 1\u001b[0m students\u001b[38;5;241m.\u001b[39mkeys(\u001b[38;5;124m\"\u001b[39m\u001b[38;5;124mid\u001b[39m\u001b[38;5;124m\"\u001b[39m,\u001b[38;5;124m\"\u001b[39m\u001b[38;5;124mname\u001b[39m\u001b[38;5;124m\"\u001b[39m,\u001b[38;5;124m\"\u001b[39m\u001b[38;5;124mfavorite\u001b[39m\u001b[38;5;124m\"\u001b[39m)\n",
      "\u001b[1;31mAttributeError\u001b[0m: 'list' object has no attribute 'keys'"
     ]
    }
   ],
   "source": [
    "students.keys(\"id\",\"name\",\"favorite\")"
   ]
  },
  {
   "cell_type": "code",
   "execution_count": 141,
   "id": "58ca3cde-c552-4142-b9e0-6c67053a4fae",
   "metadata": {},
   "outputs": [
    {
     "ename": "AttributeError",
     "evalue": "'list' object has no attribute 'values'",
     "output_type": "error",
     "traceback": [
      "\u001b[1;31m---------------------------------------------------------------------------\u001b[0m",
      "\u001b[1;31mAttributeError\u001b[0m                            Traceback (most recent call last)",
      "Cell \u001b[1;32mIn[141], line 1\u001b[0m\n\u001b[1;32m----> 1\u001b[0m students\u001b[38;5;241m.\u001b[39mvalues()\n",
      "\u001b[1;31mAttributeError\u001b[0m: 'list' object has no attribute 'values'"
     ]
    }
   ],
   "source": [
    "students.values()"
   ]
  },
  {
   "cell_type": "code",
   "execution_count": 139,
   "id": "e3bc966d-f4e8-4aba-8726-362bf6ea450f",
   "metadata": {},
   "outputs": [
    {
     "ename": "AttributeError",
     "evalue": "'list' object has no attribute 'values'",
     "output_type": "error",
     "traceback": [
      "\u001b[1;31m---------------------------------------------------------------------------\u001b[0m",
      "\u001b[1;31mAttributeError\u001b[0m                            Traceback (most recent call last)",
      "Cell \u001b[1;32mIn[139], line 1\u001b[0m\n\u001b[1;32m----> 1\u001b[0m students\u001b[38;5;241m.\u001b[39mvalues([[\u001b[38;5;241m1\u001b[39m,\u001b[38;5;241m2\u001b[39m,\u001b[38;5;241m3\u001b[39m],[\u001b[38;5;124m\"\u001b[39m\u001b[38;5;124m짱구\u001b[39m\u001b[38;5;124m\"\u001b[39m,\u001b[38;5;124m\"\u001b[39m\u001b[38;5;124m철수\u001b[39m\u001b[38;5;124m\"\u001b[39m,\u001b[38;5;124m\"\u001b[39m\u001b[38;5;124m유리\u001b[39m\u001b[38;5;124m\"\u001b[39m],[\u001b[38;5;124m\"\u001b[39m\u001b[38;5;124m액션가면\u001b[39m\u001b[38;5;124m\"\u001b[39m,\u001b[38;5;124m\"\u001b[39m\u001b[38;5;124m모에피\u001b[39m\u001b[38;5;124m\"\u001b[39m,\u001b[38;5;124m\"\u001b[39m\u001b[38;5;124m토끼\u001b[39m\u001b[38;5;124m\"\u001b[39m]])\n",
      "\u001b[1;31mAttributeError\u001b[0m: 'list' object has no attribute 'values'"
     ]
    }
   ],
   "source": [
    "students.values([[1,2,3],[\"짱구\",\"철수\",\"유리\"],[\"액션가면\",\"모에피\",\"토끼\"]])"
   ]
  },
  {
   "cell_type": "code",
   "execution_count": 142,
   "id": "169425f8-b3fe-4b06-86bf-93a7503a188e",
   "metadata": {},
   "outputs": [],
   "source": [
    "x = 2\n",
    "y = 5"
   ]
  },
  {
   "cell_type": "code",
   "execution_count": 143,
   "id": "e47c024f-da93-489d-8ed7-a6d315c9c7ce",
   "metadata": {},
   "outputs": [
    {
     "data": {
      "text/plain": [
       "7"
      ]
     },
     "execution_count": 143,
     "metadata": {},
     "output_type": "execute_result"
    }
   ],
   "source": [
    "x + y"
   ]
  },
  {
   "cell_type": "code",
   "execution_count": 144,
   "id": "55720c05-c6d7-46f6-bec9-a618bdb90c18",
   "metadata": {},
   "outputs": [
    {
     "data": {
      "text/plain": [
       "-3"
      ]
     },
     "execution_count": 144,
     "metadata": {},
     "output_type": "execute_result"
    }
   ],
   "source": [
    "x - y"
   ]
  },
  {
   "cell_type": "code",
   "execution_count": 145,
   "id": "bcded2d0-5996-4ac1-a6ab-f4c6ab420521",
   "metadata": {},
   "outputs": [
    {
     "data": {
      "text/plain": [
       "10"
      ]
     },
     "execution_count": 145,
     "metadata": {},
     "output_type": "execute_result"
    }
   ],
   "source": [
    "x * y "
   ]
  },
  {
   "cell_type": "code",
   "execution_count": 146,
   "id": "63927890-46ca-46b7-a694-c8d23095c015",
   "metadata": {},
   "outputs": [
    {
     "data": {
      "text/plain": [
       "0.4"
      ]
     },
     "execution_count": 146,
     "metadata": {},
     "output_type": "execute_result"
    }
   ],
   "source": [
    "x / y #나눗셈을 할 경우 무조건 float로 바뀐다."
   ]
  },
  {
   "cell_type": "code",
   "execution_count": 147,
   "id": "f270cfab-6c24-42a9-8a8d-13c11e366ba4",
   "metadata": {},
   "outputs": [
    {
     "data": {
      "text/plain": [
       "0"
      ]
     },
     "execution_count": 147,
     "metadata": {},
     "output_type": "execute_result"
    }
   ],
   "source": [
    "x // y #몫"
   ]
  },
  {
   "cell_type": "code",
   "execution_count": 148,
   "id": "a43061cb-8121-4dec-adf4-cb0a8069dd0d",
   "metadata": {},
   "outputs": [
    {
     "data": {
      "text/plain": [
       "2"
      ]
     },
     "execution_count": 148,
     "metadata": {},
     "output_type": "execute_result"
    }
   ],
   "source": [
    " y // x"
   ]
  },
  {
   "cell_type": "code",
   "execution_count": 149,
   "id": "8386c638-9e6b-4864-9ad7-284dab253f2f",
   "metadata": {},
   "outputs": [
    {
     "data": {
      "text/plain": [
       "2.5"
      ]
     },
     "execution_count": 149,
     "metadata": {},
     "output_type": "execute_result"
    }
   ],
   "source": [
    "y / x"
   ]
  },
  {
   "cell_type": "code",
   "execution_count": 150,
   "id": "7cfc3e83-3141-4e7d-b04c-cf9b7d7705c0",
   "metadata": {},
   "outputs": [
    {
     "data": {
      "text/plain": [
       "1"
      ]
     },
     "execution_count": 150,
     "metadata": {},
     "output_type": "execute_result"
    }
   ],
   "source": [
    "y % x #나머지 / 몫과 나머지는 무조건 정수로 나온다"
   ]
  },
  {
   "cell_type": "code",
   "execution_count": 151,
   "id": "2b804409-2103-4da0-b82e-73205042cfb1",
   "metadata": {},
   "outputs": [
    {
     "data": {
      "text/plain": [
       "2"
      ]
     },
     "execution_count": 151,
     "metadata": {},
     "output_type": "execute_result"
    }
   ],
   "source": [
    "x % y"
   ]
  },
  {
   "cell_type": "code",
   "execution_count": 152,
   "id": "e1253efa-713f-43d8-bdc4-b0bd083de592",
   "metadata": {},
   "outputs": [
    {
     "data": {
      "text/plain": [
       "32"
      ]
     },
     "execution_count": 152,
     "metadata": {},
     "output_type": "execute_result"
    }
   ],
   "source": [
    "x ** y #제곱"
   ]
  },
  {
   "cell_type": "code",
   "execution_count": 153,
   "id": "5bf0c647-a9ac-4d03-b466-cd040ce65f9b",
   "metadata": {},
   "outputs": [
    {
     "data": {
      "text/plain": [
       "25"
      ]
     },
     "execution_count": 153,
     "metadata": {},
     "output_type": "execute_result"
    }
   ],
   "source": [
    "y ** x"
   ]
  },
  {
   "cell_type": "code",
   "execution_count": 154,
   "id": "a1566ce4-4ccb-43eb-b078-f68d9c173dce",
   "metadata": {},
   "outputs": [
    {
     "name": "stdout",
     "output_type": "stream",
     "text": [
      "pythonprogramming\n"
     ]
    }
   ],
   "source": [
    "a = \"python\" # 뺄셈, 나눗셈은 불가능함\n",
    "b = \"programming\"\n",
    "print(a + b)"
   ]
  },
  {
   "cell_type": "code",
   "execution_count": 156,
   "id": "b2cfd07d-2c30-4cbe-95c3-062b4ac3a35b",
   "metadata": {},
   "outputs": [
    {
     "data": {
      "text/plain": [
       "'python'"
      ]
     },
     "execution_count": 156,
     "metadata": {},
     "output_type": "execute_result"
    }
   ],
   "source": [
    "a"
   ]
  },
  {
   "cell_type": "code",
   "execution_count": 157,
   "id": "2b02b435-7dda-4d6f-bc29-927160b95c80",
   "metadata": {},
   "outputs": [
    {
     "data": {
      "text/plain": [
       "'programming'"
      ]
     },
     "execution_count": 157,
     "metadata": {},
     "output_type": "execute_result"
    }
   ],
   "source": [
    "b"
   ]
  },
  {
   "cell_type": "code",
   "execution_count": 158,
   "id": "caeecfd2-8b12-4325-953a-9ece9770c65d",
   "metadata": {},
   "outputs": [
    {
     "data": {
      "text/plain": [
       "'python programming'"
      ]
     },
     "execution_count": 158,
     "metadata": {},
     "output_type": "execute_result"
    }
   ],
   "source": [
    "a + \" \" + b #띄우기 "
   ]
  },
  {
   "cell_type": "code",
   "execution_count": 160,
   "id": "203e38ed-a835-4c94-b053-63d819771db7",
   "metadata": {},
   "outputs": [],
   "source": [
    "a = \"su\" #154\n",
    "b = 3"
   ]
  },
  {
   "cell_type": "code",
   "execution_count": 162,
   "id": "b9961bc8-7251-4893-b0b8-54881c880789",
   "metadata": {},
   "outputs": [
    {
     "name": "stdout",
     "output_type": "stream",
     "text": [
      "susususupernova\n"
     ]
    }
   ],
   "source": [
    "print(a * b + \"supernova\")"
   ]
  },
  {
   "cell_type": "code",
   "execution_count": 174,
   "id": "0ce4454f-6ce8-4e6c-86af-5c74a161022b",
   "metadata": {},
   "outputs": [
    {
     "data": {
      "text/plain": [
       "0"
      ]
     },
     "execution_count": 174,
     "metadata": {},
     "output_type": "execute_result"
    }
   ],
   "source": [
    "count = 0\n",
    "count"
   ]
  },
  {
   "cell_type": "code",
   "execution_count": 173,
   "id": "2f37570f-740b-45f6-b90c-dde1a8fd6988",
   "metadata": {},
   "outputs": [
    {
     "data": {
      "text/plain": [
       "1"
      ]
     },
     "execution_count": 173,
     "metadata": {},
     "output_type": "execute_result"
    }
   ],
   "source": [
    "count = count + 1 #1씩 늘어나게 한다\n",
    "count"
   ]
  },
  {
   "cell_type": "code",
   "execution_count": 177,
   "id": "bebc5e92-6c9f-4690-b8cb-a2d68cb6994f",
   "metadata": {},
   "outputs": [
    {
     "data": {
      "text/plain": [
       "1"
      ]
     },
     "execution_count": 177,
     "metadata": {},
     "output_type": "execute_result"
    }
   ],
   "source": [
    "count += 1\n",
    "count"
   ]
  },
  {
   "cell_type": "code",
   "execution_count": null,
   "id": "eaa68263-e5f0-4089-af0d-ee8784c30780",
   "metadata": {},
   "outputs": [],
   "source": []
  },
  {
   "cell_type": "code",
   "execution_count": null,
   "id": "714809fb-3712-4f25-9a9f-962316f5d4c1",
   "metadata": {},
   "outputs": [],
   "source": []
  },
  {
   "cell_type": "code",
   "execution_count": null,
   "id": "67fa3d47-ed6f-419a-acf9-97d51a91bcf6",
   "metadata": {},
   "outputs": [],
   "source": []
  },
  {
   "cell_type": "code",
   "execution_count": null,
   "id": "343419ef-29c8-471d-86e3-5ca80045ee47",
   "metadata": {},
   "outputs": [],
   "source": []
  },
  {
   "cell_type": "code",
   "execution_count": null,
   "id": "fc580490-6983-4f91-8553-958adc993074",
   "metadata": {},
   "outputs": [],
   "source": []
  },
  {
   "cell_type": "code",
   "execution_count": null,
   "id": "1139a478-8806-4c14-b364-748c298d5ed2",
   "metadata": {},
   "outputs": [],
   "source": []
  },
  {
   "cell_type": "code",
   "execution_count": null,
   "id": "37bc2e2b-9609-49f7-a5fc-af1c1bc2a63d",
   "metadata": {},
   "outputs": [],
   "source": []
  },
  {
   "cell_type": "code",
   "execution_count": null,
   "id": "a382af5c-fbe7-4108-b5af-4ba67c28d4a8",
   "metadata": {},
   "outputs": [],
   "source": []
  },
  {
   "cell_type": "code",
   "execution_count": null,
   "id": "26be1ed9-0ca7-4e3d-b601-b23320f10e14",
   "metadata": {},
   "outputs": [],
   "source": []
  },
  {
   "cell_type": "code",
   "execution_count": null,
   "id": "e2c5bb88-2fcb-4aab-b6a2-78cc27821019",
   "metadata": {},
   "outputs": [],
   "source": []
  },
  {
   "cell_type": "code",
   "execution_count": null,
   "id": "3267d9e9-c7f5-417b-b2a0-93581e926686",
   "metadata": {},
   "outputs": [],
   "source": []
  },
  {
   "cell_type": "code",
   "execution_count": null,
   "id": "8dcd9a8f-3bf1-4990-8bf4-1912fa1fbe03",
   "metadata": {},
   "outputs": [],
   "source": []
  },
  {
   "cell_type": "code",
   "execution_count": null,
   "id": "e96996fe-b388-4301-a072-65962067e45b",
   "metadata": {},
   "outputs": [],
   "source": []
  },
  {
   "cell_type": "code",
   "execution_count": null,
   "id": "a6c75293-63be-4370-847b-85d12db3d534",
   "metadata": {},
   "outputs": [],
   "source": []
  },
  {
   "cell_type": "code",
   "execution_count": null,
   "id": "b22be58d-8d5c-4471-ba7e-516d935776b1",
   "metadata": {},
   "outputs": [],
   "source": []
  },
  {
   "cell_type": "code",
   "execution_count": null,
   "id": "338306e4-3173-4f9e-b149-a9296137e298",
   "metadata": {},
   "outputs": [],
   "source": []
  },
  {
   "cell_type": "code",
   "execution_count": null,
   "id": "c3c73ea7-af9f-424c-9204-f2be0a84c2c8",
   "metadata": {},
   "outputs": [],
   "source": []
  },
  {
   "cell_type": "code",
   "execution_count": null,
   "id": "78bf04d1-fc28-4137-8291-337d64178acf",
   "metadata": {},
   "outputs": [],
   "source": []
  },
  {
   "cell_type": "code",
   "execution_count": null,
   "id": "c47d5faa-05e3-4cc6-ab18-7ea6870b8567",
   "metadata": {},
   "outputs": [],
   "source": []
  },
  {
   "cell_type": "code",
   "execution_count": null,
   "id": "4bd7ccd7-7b34-4211-b49f-175c7e281b7c",
   "metadata": {},
   "outputs": [],
   "source": []
  },
  {
   "cell_type": "code",
   "execution_count": null,
   "id": "793b803c-e4e8-440b-a64f-774fb72ab1fe",
   "metadata": {},
   "outputs": [],
   "source": []
  },
  {
   "cell_type": "code",
   "execution_count": null,
   "id": "71cd53b1-77f1-450b-abcb-5ca836c76884",
   "metadata": {},
   "outputs": [],
   "source": []
  },
  {
   "cell_type": "code",
   "execution_count": null,
   "id": "4e2bbe82-b3bd-4f53-a95b-59055112ed7b",
   "metadata": {},
   "outputs": [],
   "source": []
  }
 ],
 "metadata": {
  "kernelspec": {
   "display_name": "Python [conda env:base] *",
   "language": "python",
   "name": "conda-base-py"
  },
  "language_info": {
   "codemirror_mode": {
    "name": "ipython",
    "version": 3
   },
   "file_extension": ".py",
   "mimetype": "text/x-python",
   "name": "python",
   "nbconvert_exporter": "python",
   "pygments_lexer": "ipython3",
   "version": "3.12.7"
  }
 },
 "nbformat": 4,
 "nbformat_minor": 5
}
